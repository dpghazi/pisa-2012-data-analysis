{
 "cells": [
  {
   "cell_type": "markdown",
   "metadata": {},
   "source": [
    "<font size=\"+3\"><strong>PISA 2012 Data Analysis</strong></font>"
   ]
  },
  {
   "cell_type": "code",
   "execution_count": 1,
   "metadata": {},
   "outputs": [],
   "source": [
    "__author__ = \"Donald Ghazi\"\n",
    "__email__ = \"donald@donaldghazi.com\"\n",
    "__website__ = \"donaldghazi.com\""
   ]
  },
  {
   "cell_type": "markdown",
   "metadata": {},
   "source": [
    "## Dataset Description"
   ]
  },
  {
   "cell_type": "markdown",
   "metadata": {},
   "source": [
    "### PISA  (Programme for International Student Assessment)"
   ]
  },
  {
   "cell_type": "markdown",
   "metadata": {},
   "source": [
    "\"PISA is a survey of students' skills and knowledge as they approach the end of compulsory education. It is not a conventional school test. Rather than examining how well students have learned the school curriculum, it looks at how well prepared they are for life beyond school.\"\n",
    "\n",
    "\"Around 510,000 students in 65 economies took part in the PISA 2012 assessment of reading, mathematics and science representing about 28 million 15-year-olds globally. Of those economies, 44 took part in an assessment of creative problem solving and 18 in an assessment of financial literacy.\"\n",
    "\n",
    "[Source](https://docs.google.com/document/d/e/2PACX-1vQmkX4iOT6Rcrin42vslquX2_wQCjIa_hbwD0xmxrERPSOJYDtpNc_3wwK_p9_KpOsfA6QVyEHdxxq7/pub?embedded=True)"
   ]
  },
  {
   "cell_type": "markdown",
   "metadata": {},
   "source": [
    "**For this project, I was really interested to see what kind of variables I will be working with because I was informed that the file size is rather large and there's an extensive list of dictionary list that wasn't explained well prior to embarking on this project. Furthermore, as this is an official survey study that was conducted by a research institute, I knew that it will be challenging, but if I my dataframe was clean and tidy, I can be as creative as I want in my insights and visualization section.**"
   ]
  },
  {
   "cell_type": "markdown",
   "metadata": {},
   "source": [
    "**As always, we want to gather out datasource and this time. In the following step, I'm running Jupyter Notebook from my our server and uploaded the files that I donwloaded from the Udacity's server. It did take a bit since the files are rather large.**"
   ]
  },
  {
   "cell_type": "markdown",
   "metadata": {},
   "source": [
    "## Gathering Data"
   ]
  },
  {
   "cell_type": "code",
   "execution_count": 1,
   "metadata": {},
   "outputs": [],
   "source": [
    "# import packages \n",
    "import pandas as pd\n",
    "import numpy as np\n",
    "import matplotlib.pyplot as plt\n",
    "%matplotlib inline"
   ]
  },
  {
   "cell_type": "code",
   "execution_count": 2,
   "metadata": {},
   "outputs": [],
   "source": [
    "# import PISA 2012 data\n",
    "pisa_2012 = pd.read_csv(\"/Users/donaldghazi/Desktop/pisa2012.csv\",encoding='latin1',low_memory=False)"
   ]
  },
  {
   "cell_type": "code",
   "execution_count": 3,
   "metadata": {},
   "outputs": [],
   "source": [
    "# import PISA 2012 Dictionary data \n",
    "pisa_dict_2012 = pd.read_csv(\"/Users/donaldghazi/Desktop/pisadict2012.csv\",encoding='latin1',low_memory=False)"
   ]
  },
  {
   "cell_type": "markdown",
   "metadata": {},
   "source": [
    "## Assessing Data"
   ]
  },
  {
   "cell_type": "markdown",
   "metadata": {},
   "source": [
    "**Looking at the first few rows of the dataframe is always a good start, but I wanted to get a bigger picture of the dataset and try to understand what these variables may mean and how I would like to organize them prior to cleaning.**"
   ]
  },
  {
   "cell_type": "code",
   "execution_count": 4,
   "metadata": {},
   "outputs": [
    {
     "data": {
      "text/html": [
       "<div>\n",
       "<style scoped>\n",
       "    .dataframe tbody tr th:only-of-type {\n",
       "        vertical-align: middle;\n",
       "    }\n",
       "\n",
       "    .dataframe tbody tr th {\n",
       "        vertical-align: top;\n",
       "    }\n",
       "\n",
       "    .dataframe thead th {\n",
       "        text-align: right;\n",
       "    }\n",
       "</style>\n",
       "<table border=\"1\" class=\"dataframe\">\n",
       "  <thead>\n",
       "    <tr style=\"text-align: right;\">\n",
       "      <th></th>\n",
       "      <th>Unnamed: 0</th>\n",
       "      <th>CNT</th>\n",
       "      <th>SUBNATIO</th>\n",
       "      <th>STRATUM</th>\n",
       "      <th>OECD</th>\n",
       "      <th>NC</th>\n",
       "      <th>SCHOOLID</th>\n",
       "      <th>STIDSTD</th>\n",
       "      <th>ST01Q01</th>\n",
       "      <th>ST02Q01</th>\n",
       "      <th>...</th>\n",
       "      <th>W_FSTR75</th>\n",
       "      <th>W_FSTR76</th>\n",
       "      <th>W_FSTR77</th>\n",
       "      <th>W_FSTR78</th>\n",
       "      <th>W_FSTR79</th>\n",
       "      <th>W_FSTR80</th>\n",
       "      <th>WVARSTRR</th>\n",
       "      <th>VAR_UNIT</th>\n",
       "      <th>SENWGT_STU</th>\n",
       "      <th>VER_STU</th>\n",
       "    </tr>\n",
       "  </thead>\n",
       "  <tbody>\n",
       "    <tr>\n",
       "      <th>199688</th>\n",
       "      <td>199689</td>\n",
       "      <td>United Kingdom</td>\n",
       "      <td>8260000</td>\n",
       "      <td>GBR1105</td>\n",
       "      <td>OECD</td>\n",
       "      <td>United Kingdom (excl.Scotland)</td>\n",
       "      <td>424</td>\n",
       "      <td>10572</td>\n",
       "      <td>11</td>\n",
       "      <td>1.0</td>\n",
       "      <td>...</td>\n",
       "      <td>100.6136</td>\n",
       "      <td>168.5348</td>\n",
       "      <td>89.4344</td>\n",
       "      <td>168.5348</td>\n",
       "      <td>80.4909</td>\n",
       "      <td>187.2609</td>\n",
       "      <td>30</td>\n",
       "      <td>3</td>\n",
       "      <td>0.2010</td>\n",
       "      <td>22NOV13</td>\n",
       "    </tr>\n",
       "    <tr>\n",
       "      <th>177231</th>\n",
       "      <td>177232</td>\n",
       "      <td>Finland</td>\n",
       "      <td>2460000</td>\n",
       "      <td>FIN0003</td>\n",
       "      <td>OECD</td>\n",
       "      <td>Finland</td>\n",
       "      <td>56</td>\n",
       "      <td>1557</td>\n",
       "      <td>9</td>\n",
       "      <td>1.0</td>\n",
       "      <td>...</td>\n",
       "      <td>13.6850</td>\n",
       "      <td>4.5651</td>\n",
       "      <td>4.2998</td>\n",
       "      <td>13.7251</td>\n",
       "      <td>12.8907</td>\n",
       "      <td>13.6850</td>\n",
       "      <td>62</td>\n",
       "      <td>1</td>\n",
       "      <td>0.1475</td>\n",
       "      <td>22NOV13</td>\n",
       "    </tr>\n",
       "    <tr>\n",
       "      <th>169839</th>\n",
       "      <td>169840</td>\n",
       "      <td>Spain</td>\n",
       "      <td>7240900</td>\n",
       "      <td>ESP0918</td>\n",
       "      <td>OECD</td>\n",
       "      <td>Spain</td>\n",
       "      <td>866</td>\n",
       "      <td>24257</td>\n",
       "      <td>10</td>\n",
       "      <td>1.0</td>\n",
       "      <td>...</td>\n",
       "      <td>41.6396</td>\n",
       "      <td>41.6396</td>\n",
       "      <td>41.6396</td>\n",
       "      <td>13.8799</td>\n",
       "      <td>13.8799</td>\n",
       "      <td>41.6396</td>\n",
       "      <td>47</td>\n",
       "      <td>2</td>\n",
       "      <td>0.0743</td>\n",
       "      <td>22NOV13</td>\n",
       "    </tr>\n",
       "    <tr>\n",
       "      <th>464250</th>\n",
       "      <td>464251</td>\n",
       "      <td>Tunisia</td>\n",
       "      <td>7880000</td>\n",
       "      <td>TUN0013</td>\n",
       "      <td>Non-OECD</td>\n",
       "      <td>Tunisia</td>\n",
       "      <td>115</td>\n",
       "      <td>3268</td>\n",
       "      <td>10</td>\n",
       "      <td>2.0</td>\n",
       "      <td>...</td>\n",
       "      <td>36.1375</td>\n",
       "      <td>12.0458</td>\n",
       "      <td>12.0458</td>\n",
       "      <td>12.0458</td>\n",
       "      <td>12.0458</td>\n",
       "      <td>36.1375</td>\n",
       "      <td>54</td>\n",
       "      <td>2</td>\n",
       "      <td>0.1995</td>\n",
       "      <td>22NOV13</td>\n",
       "    </tr>\n",
       "    <tr>\n",
       "      <th>424540</th>\n",
       "      <td>424541</td>\n",
       "      <td>Singapore</td>\n",
       "      <td>7020000</td>\n",
       "      <td>SGP0201</td>\n",
       "      <td>Non-OECD</td>\n",
       "      <td>Singapore</td>\n",
       "      <td>54</td>\n",
       "      <td>1765</td>\n",
       "      <td>10</td>\n",
       "      <td>1.0</td>\n",
       "      <td>...</td>\n",
       "      <td>12.1988</td>\n",
       "      <td>3.7651</td>\n",
       "      <td>11.7470</td>\n",
       "      <td>11.2952</td>\n",
       "      <td>11.7470</td>\n",
       "      <td>11.7470</td>\n",
       "      <td>39</td>\n",
       "      <td>2</td>\n",
       "      <td>0.1533</td>\n",
       "      <td>22NOV13</td>\n",
       "    </tr>\n",
       "    <tr>\n",
       "      <th>250436</th>\n",
       "      <td>250437</td>\n",
       "      <td>Italy</td>\n",
       "      <td>3800000</td>\n",
       "      <td>ITA1902</td>\n",
       "      <td>OECD</td>\n",
       "      <td>Italy</td>\n",
       "      <td>380</td>\n",
       "      <td>9847</td>\n",
       "      <td>10</td>\n",
       "      <td>2.0</td>\n",
       "      <td>...</td>\n",
       "      <td>29.6272</td>\n",
       "      <td>29.6272</td>\n",
       "      <td>29.6272</td>\n",
       "      <td>29.6272</td>\n",
       "      <td>9.8757</td>\n",
       "      <td>9.8757</td>\n",
       "      <td>49</td>\n",
       "      <td>2</td>\n",
       "      <td>0.0379</td>\n",
       "      <td>22NOV13</td>\n",
       "    </tr>\n",
       "    <tr>\n",
       "      <th>401561</th>\n",
       "      <td>401562</td>\n",
       "      <td>China-Shanghai</td>\n",
       "      <td>1560000</td>\n",
       "      <td>QCN0002</td>\n",
       "      <td>Non-OECD</td>\n",
       "      <td>China (Shanghai)</td>\n",
       "      <td>40</td>\n",
       "      <td>1345</td>\n",
       "      <td>10</td>\n",
       "      <td>2.0</td>\n",
       "      <td>...</td>\n",
       "      <td>23.1880</td>\n",
       "      <td>23.1880</td>\n",
       "      <td>23.1880</td>\n",
       "      <td>11.0744</td>\n",
       "      <td>11.0744</td>\n",
       "      <td>23.1880</td>\n",
       "      <td>38</td>\n",
       "      <td>3</td>\n",
       "      <td>0.2016</td>\n",
       "      <td>22NOV13</td>\n",
       "    </tr>\n",
       "    <tr>\n",
       "      <th>26394</th>\n",
       "      <td>26395</td>\n",
       "      <td>Australia</td>\n",
       "      <td>360000</td>\n",
       "      <td>AUS0205</td>\n",
       "      <td>OECD</td>\n",
       "      <td>Australia</td>\n",
       "      <td>229</td>\n",
       "      <td>4244</td>\n",
       "      <td>9</td>\n",
       "      <td>1.0</td>\n",
       "      <td>...</td>\n",
       "      <td>2.0723</td>\n",
       "      <td>2.6125</td>\n",
       "      <td>6.8208</td>\n",
       "      <td>6.1229</td>\n",
       "      <td>2.5062</td>\n",
       "      <td>2.4722</td>\n",
       "      <td>71</td>\n",
       "      <td>2</td>\n",
       "      <td>0.0180</td>\n",
       "      <td>22NOV13</td>\n",
       "    </tr>\n",
       "    <tr>\n",
       "      <th>254233</th>\n",
       "      <td>254234</td>\n",
       "      <td>Italy</td>\n",
       "      <td>3800000</td>\n",
       "      <td>ITA1501</td>\n",
       "      <td>OECD</td>\n",
       "      <td>Italy</td>\n",
       "      <td>518</td>\n",
       "      <td>13644</td>\n",
       "      <td>10</td>\n",
       "      <td>1.0</td>\n",
       "      <td>...</td>\n",
       "      <td>4.4363</td>\n",
       "      <td>13.3090</td>\n",
       "      <td>13.3090</td>\n",
       "      <td>4.4363</td>\n",
       "      <td>4.4363</td>\n",
       "      <td>13.3090</td>\n",
       "      <td>55</td>\n",
       "      <td>2</td>\n",
       "      <td>0.0170</td>\n",
       "      <td>22NOV13</td>\n",
       "    </tr>\n",
       "    <tr>\n",
       "      <th>246809</th>\n",
       "      <td>246810</td>\n",
       "      <td>Italy</td>\n",
       "      <td>3800000</td>\n",
       "      <td>ITA1902</td>\n",
       "      <td>OECD</td>\n",
       "      <td>Italy</td>\n",
       "      <td>240</td>\n",
       "      <td>6220</td>\n",
       "      <td>9</td>\n",
       "      <td>2.0</td>\n",
       "      <td>...</td>\n",
       "      <td>11.5863</td>\n",
       "      <td>11.5863</td>\n",
       "      <td>11.5863</td>\n",
       "      <td>11.2369</td>\n",
       "      <td>32.4395</td>\n",
       "      <td>33.5556</td>\n",
       "      <td>49</td>\n",
       "      <td>1</td>\n",
       "      <td>0.0430</td>\n",
       "      <td>22NOV13</td>\n",
       "    </tr>\n",
       "    <tr>\n",
       "      <th>382385</th>\n",
       "      <td>382386</td>\n",
       "      <td>Poland</td>\n",
       "      <td>6160000</td>\n",
       "      <td>POL0001</td>\n",
       "      <td>OECD</td>\n",
       "      <td>Poland</td>\n",
       "      <td>140</td>\n",
       "      <td>3464</td>\n",
       "      <td>9</td>\n",
       "      <td>1.0</td>\n",
       "      <td>...</td>\n",
       "      <td>61.4053</td>\n",
       "      <td>168.1104</td>\n",
       "      <td>57.4735</td>\n",
       "      <td>58.7977</td>\n",
       "      <td>58.8062</td>\n",
       "      <td>60.0252</td>\n",
       "      <td>1</td>\n",
       "      <td>2</td>\n",
       "      <td>0.3063</td>\n",
       "      <td>22NOV13</td>\n",
       "    </tr>\n",
       "    <tr>\n",
       "      <th>318838</th>\n",
       "      <td>318839</td>\n",
       "      <td>Mexico</td>\n",
       "      <td>4840000</td>\n",
       "      <td>MEX0410</td>\n",
       "      <td>OECD</td>\n",
       "      <td>Mexico</td>\n",
       "      <td>134</td>\n",
       "      <td>3136</td>\n",
       "      <td>10</td>\n",
       "      <td>5.0</td>\n",
       "      <td>...</td>\n",
       "      <td>12.1540</td>\n",
       "      <td>12.1786</td>\n",
       "      <td>12.1540</td>\n",
       "      <td>4.3495</td>\n",
       "      <td>12.1540</td>\n",
       "      <td>4.3495</td>\n",
       "      <td>22</td>\n",
       "      <td>1</td>\n",
       "      <td>0.0063</td>\n",
       "      <td>22NOV13</td>\n",
       "    </tr>\n",
       "    <tr>\n",
       "      <th>13865</th>\n",
       "      <td>13866</td>\n",
       "      <td>United Arab Emirates</td>\n",
       "      <td>7840000</td>\n",
       "      <td>ARE0769</td>\n",
       "      <td>Non-OECD</td>\n",
       "      <td>United Arab Emirates</td>\n",
       "      <td>362</td>\n",
       "      <td>9123</td>\n",
       "      <td>10</td>\n",
       "      <td>2.0</td>\n",
       "      <td>...</td>\n",
       "      <td>4.0771</td>\n",
       "      <td>3.9669</td>\n",
       "      <td>1.3228</td>\n",
       "      <td>1.3598</td>\n",
       "      <td>1.3228</td>\n",
       "      <td>1.3224</td>\n",
       "      <td>66</td>\n",
       "      <td>2</td>\n",
       "      <td>0.0657</td>\n",
       "      <td>22NOV13</td>\n",
       "    </tr>\n",
       "    <tr>\n",
       "      <th>14884</th>\n",
       "      <td>14885</td>\n",
       "      <td>United Arab Emirates</td>\n",
       "      <td>7840100</td>\n",
       "      <td>ARE0101</td>\n",
       "      <td>Non-OECD</td>\n",
       "      <td>United Arab Emirates</td>\n",
       "      <td>402</td>\n",
       "      <td>10142</td>\n",
       "      <td>8</td>\n",
       "      <td>1.0</td>\n",
       "      <td>...</td>\n",
       "      <td>2.5341</td>\n",
       "      <td>2.5341</td>\n",
       "      <td>2.5341</td>\n",
       "      <td>7.6022</td>\n",
       "      <td>7.6022</td>\n",
       "      <td>2.5341</td>\n",
       "      <td>7</td>\n",
       "      <td>2</td>\n",
       "      <td>0.1248</td>\n",
       "      <td>22NOV13</td>\n",
       "    </tr>\n",
       "    <tr>\n",
       "      <th>14395</th>\n",
       "      <td>14396</td>\n",
       "      <td>United Arab Emirates</td>\n",
       "      <td>7840100</td>\n",
       "      <td>ARE0108</td>\n",
       "      <td>Non-OECD</td>\n",
       "      <td>United Arab Emirates</td>\n",
       "      <td>383</td>\n",
       "      <td>9653</td>\n",
       "      <td>10</td>\n",
       "      <td>1.0</td>\n",
       "      <td>...</td>\n",
       "      <td>7.4775</td>\n",
       "      <td>2.4500</td>\n",
       "      <td>7.4775</td>\n",
       "      <td>7.5442</td>\n",
       "      <td>7.5867</td>\n",
       "      <td>7.5867</td>\n",
       "      <td>48</td>\n",
       "      <td>2</td>\n",
       "      <td>0.1219</td>\n",
       "      <td>22NOV13</td>\n",
       "    </tr>\n",
       "    <tr>\n",
       "      <th>393135</th>\n",
       "      <td>393136</td>\n",
       "      <td>Qatar</td>\n",
       "      <td>6340000</td>\n",
       "      <td>QAT0004</td>\n",
       "      <td>Non-OECD</td>\n",
       "      <td>Qatar</td>\n",
       "      <td>47</td>\n",
       "      <td>3885</td>\n",
       "      <td>10</td>\n",
       "      <td>4.0</td>\n",
       "      <td>...</td>\n",
       "      <td>0.5009</td>\n",
       "      <td>1.5027</td>\n",
       "      <td>0.5009</td>\n",
       "      <td>0.5009</td>\n",
       "      <td>0.5009</td>\n",
       "      <td>0.5009</td>\n",
       "      <td>79</td>\n",
       "      <td>2</td>\n",
       "      <td>0.0910</td>\n",
       "      <td>22NOV13</td>\n",
       "    </tr>\n",
       "    <tr>\n",
       "      <th>47940</th>\n",
       "      <td>47941</td>\n",
       "      <td>Belgium</td>\n",
       "      <td>560100</td>\n",
       "      <td>BEL0111</td>\n",
       "      <td>OECD</td>\n",
       "      <td>Belgium</td>\n",
       "      <td>220</td>\n",
       "      <td>6554</td>\n",
       "      <td>9</td>\n",
       "      <td>6.0</td>\n",
       "      <td>...</td>\n",
       "      <td>9.5093</td>\n",
       "      <td>24.0369</td>\n",
       "      <td>24.7308</td>\n",
       "      <td>24.7308</td>\n",
       "      <td>26.5182</td>\n",
       "      <td>10.0582</td>\n",
       "      <td>49</td>\n",
       "      <td>2</td>\n",
       "      <td>0.1492</td>\n",
       "      <td>22NOV13</td>\n",
       "    </tr>\n",
       "    <tr>\n",
       "      <th>351214</th>\n",
       "      <td>351215</td>\n",
       "      <td>Montenegro</td>\n",
       "      <td>4990000</td>\n",
       "      <td>MNE0006</td>\n",
       "      <td>Non-OECD</td>\n",
       "      <td>Montenegro</td>\n",
       "      <td>19</td>\n",
       "      <td>1706</td>\n",
       "      <td>10</td>\n",
       "      <td>2.0</td>\n",
       "      <td>...</td>\n",
       "      <td>0.6061</td>\n",
       "      <td>1.8182</td>\n",
       "      <td>0.6061</td>\n",
       "      <td>0.6061</td>\n",
       "      <td>0.5855</td>\n",
       "      <td>0.5855</td>\n",
       "      <td>57</td>\n",
       "      <td>2</td>\n",
       "      <td>0.1544</td>\n",
       "      <td>22NOV13</td>\n",
       "    </tr>\n",
       "    <tr>\n",
       "      <th>484805</th>\n",
       "      <td>484806</td>\n",
       "      <td>Vietnam</td>\n",
       "      <td>7040000</td>\n",
       "      <td>VNM0208</td>\n",
       "      <td>Non-OECD</td>\n",
       "      <td>Viet Nam</td>\n",
       "      <td>141</td>\n",
       "      <td>4275</td>\n",
       "      <td>10</td>\n",
       "      <td>2.0</td>\n",
       "      <td>...</td>\n",
       "      <td>270.2383</td>\n",
       "      <td>90.0794</td>\n",
       "      <td>90.0794</td>\n",
       "      <td>90.0794</td>\n",
       "      <td>90.0794</td>\n",
       "      <td>270.2383</td>\n",
       "      <td>60</td>\n",
       "      <td>1</td>\n",
       "      <td>0.1883</td>\n",
       "      <td>22NOV13</td>\n",
       "    </tr>\n",
       "    <tr>\n",
       "      <th>162993</th>\n",
       "      <td>162994</td>\n",
       "      <td>Spain</td>\n",
       "      <td>7240700</td>\n",
       "      <td>ESP0713</td>\n",
       "      <td>OECD</td>\n",
       "      <td>Spain</td>\n",
       "      <td>616</td>\n",
       "      <td>17411</td>\n",
       "      <td>10</td>\n",
       "      <td>1.0</td>\n",
       "      <td>...</td>\n",
       "      <td>5.6311</td>\n",
       "      <td>17.5992</td>\n",
       "      <td>5.6311</td>\n",
       "      <td>16.7849</td>\n",
       "      <td>16.7849</td>\n",
       "      <td>16.7849</td>\n",
       "      <td>8</td>\n",
       "      <td>1</td>\n",
       "      <td>0.0309</td>\n",
       "      <td>22NOV13</td>\n",
       "    </tr>\n",
       "  </tbody>\n",
       "</table>\n",
       "<p>20 rows × 636 columns</p>\n",
       "</div>"
      ],
      "text/plain": [
       "        Unnamed: 0                   CNT  SUBNATIO  STRATUM      OECD  \\\n",
       "199688      199689        United Kingdom   8260000  GBR1105      OECD   \n",
       "177231      177232               Finland   2460000  FIN0003      OECD   \n",
       "169839      169840                 Spain   7240900  ESP0918      OECD   \n",
       "464250      464251               Tunisia   7880000  TUN0013  Non-OECD   \n",
       "424540      424541             Singapore   7020000  SGP0201  Non-OECD   \n",
       "250436      250437                 Italy   3800000  ITA1902      OECD   \n",
       "401561      401562        China-Shanghai   1560000  QCN0002  Non-OECD   \n",
       "26394        26395             Australia    360000  AUS0205      OECD   \n",
       "254233      254234                 Italy   3800000  ITA1501      OECD   \n",
       "246809      246810                 Italy   3800000  ITA1902      OECD   \n",
       "382385      382386                Poland   6160000  POL0001      OECD   \n",
       "318838      318839                Mexico   4840000  MEX0410      OECD   \n",
       "13865        13866  United Arab Emirates   7840000  ARE0769  Non-OECD   \n",
       "14884        14885  United Arab Emirates   7840100  ARE0101  Non-OECD   \n",
       "14395        14396  United Arab Emirates   7840100  ARE0108  Non-OECD   \n",
       "393135      393136                 Qatar   6340000  QAT0004  Non-OECD   \n",
       "47940        47941               Belgium    560100  BEL0111      OECD   \n",
       "351214      351215            Montenegro   4990000  MNE0006  Non-OECD   \n",
       "484805      484806               Vietnam   7040000  VNM0208  Non-OECD   \n",
       "162993      162994                 Spain   7240700  ESP0713      OECD   \n",
       "\n",
       "                                     NC  SCHOOLID  STIDSTD  ST01Q01  ST02Q01  \\\n",
       "199688  United Kingdom (excl.Scotland)        424    10572       11      1.0   \n",
       "177231                          Finland        56     1557        9      1.0   \n",
       "169839                            Spain       866    24257       10      1.0   \n",
       "464250                          Tunisia       115     3268       10      2.0   \n",
       "424540                        Singapore        54     1765       10      1.0   \n",
       "250436                            Italy       380     9847       10      2.0   \n",
       "401561                China (Shanghai)         40     1345       10      2.0   \n",
       "26394                         Australia       229     4244        9      1.0   \n",
       "254233                            Italy       518    13644       10      1.0   \n",
       "246809                            Italy       240     6220        9      2.0   \n",
       "382385                          Poland        140     3464        9      1.0   \n",
       "318838                          Mexico        134     3136       10      5.0   \n",
       "13865             United Arab Emirates        362     9123       10      2.0   \n",
       "14884             United Arab Emirates        402    10142        8      1.0   \n",
       "14395             United Arab Emirates        383     9653       10      1.0   \n",
       "393135                            Qatar        47     3885       10      4.0   \n",
       "47940                           Belgium       220     6554        9      6.0   \n",
       "351214                      Montenegro         19     1706       10      2.0   \n",
       "484805                        Viet Nam        141     4275       10      2.0   \n",
       "162993                            Spain       616    17411       10      1.0   \n",
       "\n",
       "        ...  W_FSTR75  W_FSTR76 W_FSTR77  W_FSTR78  W_FSTR79  W_FSTR80  \\\n",
       "199688  ...  100.6136  168.5348  89.4344  168.5348   80.4909  187.2609   \n",
       "177231  ...   13.6850    4.5651   4.2998   13.7251   12.8907   13.6850   \n",
       "169839  ...   41.6396   41.6396  41.6396   13.8799   13.8799   41.6396   \n",
       "464250  ...   36.1375   12.0458  12.0458   12.0458   12.0458   36.1375   \n",
       "424540  ...   12.1988    3.7651  11.7470   11.2952   11.7470   11.7470   \n",
       "250436  ...   29.6272   29.6272  29.6272   29.6272    9.8757    9.8757   \n",
       "401561  ...   23.1880   23.1880  23.1880   11.0744   11.0744   23.1880   \n",
       "26394   ...    2.0723    2.6125   6.8208    6.1229    2.5062    2.4722   \n",
       "254233  ...    4.4363   13.3090  13.3090    4.4363    4.4363   13.3090   \n",
       "246809  ...   11.5863   11.5863  11.5863   11.2369   32.4395   33.5556   \n",
       "382385  ...   61.4053  168.1104  57.4735   58.7977   58.8062   60.0252   \n",
       "318838  ...   12.1540   12.1786  12.1540    4.3495   12.1540    4.3495   \n",
       "13865   ...    4.0771    3.9669   1.3228    1.3598    1.3228    1.3224   \n",
       "14884   ...    2.5341    2.5341   2.5341    7.6022    7.6022    2.5341   \n",
       "14395   ...    7.4775    2.4500   7.4775    7.5442    7.5867    7.5867   \n",
       "393135  ...    0.5009    1.5027   0.5009    0.5009    0.5009    0.5009   \n",
       "47940   ...    9.5093   24.0369  24.7308   24.7308   26.5182   10.0582   \n",
       "351214  ...    0.6061    1.8182   0.6061    0.6061    0.5855    0.5855   \n",
       "484805  ...  270.2383   90.0794  90.0794   90.0794   90.0794  270.2383   \n",
       "162993  ...    5.6311   17.5992   5.6311   16.7849   16.7849   16.7849   \n",
       "\n",
       "       WVARSTRR VAR_UNIT SENWGT_STU  VER_STU  \n",
       "199688       30        3     0.2010  22NOV13  \n",
       "177231       62        1     0.1475  22NOV13  \n",
       "169839       47        2     0.0743  22NOV13  \n",
       "464250       54        2     0.1995  22NOV13  \n",
       "424540       39        2     0.1533  22NOV13  \n",
       "250436       49        2     0.0379  22NOV13  \n",
       "401561       38        3     0.2016  22NOV13  \n",
       "26394        71        2     0.0180  22NOV13  \n",
       "254233       55        2     0.0170  22NOV13  \n",
       "246809       49        1     0.0430  22NOV13  \n",
       "382385        1        2     0.3063  22NOV13  \n",
       "318838       22        1     0.0063  22NOV13  \n",
       "13865        66        2     0.0657  22NOV13  \n",
       "14884         7        2     0.1248  22NOV13  \n",
       "14395        48        2     0.1219  22NOV13  \n",
       "393135       79        2     0.0910  22NOV13  \n",
       "47940        49        2     0.1492  22NOV13  \n",
       "351214       57        2     0.1544  22NOV13  \n",
       "484805       60        1     0.1883  22NOV13  \n",
       "162993        8        1     0.0309  22NOV13  \n",
       "\n",
       "[20 rows x 636 columns]"
      ]
     },
     "execution_count": 4,
     "metadata": {},
     "output_type": "execute_result"
    }
   ],
   "source": [
    "pisa_2012.sample(20)"
   ]
  },
  {
   "cell_type": "markdown",
   "metadata": {},
   "source": [
    "**The pisa_2012 data does look pretty clean but there's a lot of columns that we can't really see. Further, I don't know what they really meant. This warned me that I should look at the csv file separately by running an IDLE and also read from the PISA 2012 booklet that can be found online.**"
   ]
  },
  {
   "cell_type": "code",
   "execution_count": 5,
   "metadata": {},
   "outputs": [
    {
     "data": {
      "text/plain": [
       "485490"
      ]
     },
     "execution_count": 5,
     "metadata": {},
     "output_type": "execute_result"
    }
   ],
   "source": [
    "# inspect df\n",
    "pisa_2012.shape[0]"
   ]
  },
  {
   "cell_type": "code",
   "execution_count": 6,
   "metadata": {},
   "outputs": [
    {
     "name": "stdout",
     "output_type": "stream",
     "text": [
      "<class 'pandas.core.frame.DataFrame'>\n",
      "RangeIndex: 485490 entries, 0 to 485489\n",
      "Columns: 636 entries, Unnamed: 0 to VER_STU\n",
      "dtypes: float64(250), int64(18), object(368)\n",
      "memory usage: 2.3+ GB\n"
     ]
    }
   ],
   "source": [
    "pisa_2012.info()"
   ]
  },
  {
   "cell_type": "markdown",
   "metadata": {},
   "source": [
    " - The total number of students is 485,490.\n",
    " - There's 636 columns so we only want to choose columns that we really need."
   ]
  },
  {
   "cell_type": "markdown",
   "metadata": {},
   "source": [
    "**To reiterate, we want to only keep the variables we find interesting and will help us gain best insights that are creative and fulfilling for us at the end. Knowing that PISA tests on Math, Reading, and Science, I was more interested in Reading Scores and Language-related variables.**"
   ]
  },
  {
   "cell_type": "code",
   "execution_count": 7,
   "metadata": {},
   "outputs": [
    {
     "data": {
      "text/html": [
       "<div>\n",
       "<style scoped>\n",
       "    .dataframe tbody tr th:only-of-type {\n",
       "        vertical-align: middle;\n",
       "    }\n",
       "\n",
       "    .dataframe tbody tr th {\n",
       "        vertical-align: top;\n",
       "    }\n",
       "\n",
       "    .dataframe thead th {\n",
       "        text-align: right;\n",
       "    }\n",
       "</style>\n",
       "<table border=\"1\" class=\"dataframe\">\n",
       "  <thead>\n",
       "    <tr style=\"text-align: right;\">\n",
       "      <th></th>\n",
       "      <th>Unnamed: 0</th>\n",
       "      <th>x</th>\n",
       "    </tr>\n",
       "  </thead>\n",
       "  <tbody>\n",
       "    <tr>\n",
       "      <th>0</th>\n",
       "      <td>CNT</td>\n",
       "      <td>Country code 3-character</td>\n",
       "    </tr>\n",
       "    <tr>\n",
       "      <th>1</th>\n",
       "      <td>SUBNATIO</td>\n",
       "      <td>Adjudicated sub-region code 7-digit code (3-di...</td>\n",
       "    </tr>\n",
       "    <tr>\n",
       "      <th>2</th>\n",
       "      <td>STRATUM</td>\n",
       "      <td>Stratum ID 7-character (cnt + region ID + orig...</td>\n",
       "    </tr>\n",
       "    <tr>\n",
       "      <th>3</th>\n",
       "      <td>OECD</td>\n",
       "      <td>OECD country</td>\n",
       "    </tr>\n",
       "    <tr>\n",
       "      <th>4</th>\n",
       "      <td>NC</td>\n",
       "      <td>National Centre 6-digit Code</td>\n",
       "    </tr>\n",
       "    <tr>\n",
       "      <th>...</th>\n",
       "      <td>...</td>\n",
       "      <td>...</td>\n",
       "    </tr>\n",
       "    <tr>\n",
       "      <th>630</th>\n",
       "      <td>W_FSTR80</td>\n",
       "      <td>FINAL STUDENT REPLICATE BRR-FAY WEIGHT80</td>\n",
       "    </tr>\n",
       "    <tr>\n",
       "      <th>631</th>\n",
       "      <td>WVARSTRR</td>\n",
       "      <td>RANDOMIZED FINAL VARIANCE STRATUM (1-80)</td>\n",
       "    </tr>\n",
       "    <tr>\n",
       "      <th>632</th>\n",
       "      <td>VAR_UNIT</td>\n",
       "      <td>RANDOMLY ASSIGNED VARIANCE UNIT</td>\n",
       "    </tr>\n",
       "    <tr>\n",
       "      <th>633</th>\n",
       "      <td>SENWGT_STU</td>\n",
       "      <td>Senate weight - sum of weight within the count...</td>\n",
       "    </tr>\n",
       "    <tr>\n",
       "      <th>634</th>\n",
       "      <td>VER_STU</td>\n",
       "      <td>Date of the database creation</td>\n",
       "    </tr>\n",
       "  </tbody>\n",
       "</table>\n",
       "<p>635 rows × 2 columns</p>\n",
       "</div>"
      ],
      "text/plain": [
       "     Unnamed: 0                                                  x\n",
       "0           CNT                           Country code 3-character\n",
       "1      SUBNATIO  Adjudicated sub-region code 7-digit code (3-di...\n",
       "2       STRATUM  Stratum ID 7-character (cnt + region ID + orig...\n",
       "3          OECD                                       OECD country\n",
       "4            NC                       National Centre 6-digit Code\n",
       "..          ...                                                ...\n",
       "630    W_FSTR80           FINAL STUDENT REPLICATE BRR-FAY WEIGHT80\n",
       "631    WVARSTRR           RANDOMIZED FINAL VARIANCE STRATUM (1-80)\n",
       "632    VAR_UNIT                    RANDOMLY ASSIGNED VARIANCE UNIT\n",
       "633  SENWGT_STU  Senate weight - sum of weight within the count...\n",
       "634     VER_STU                      Date of the database creation\n",
       "\n",
       "[635 rows x 2 columns]"
      ]
     },
     "execution_count": 7,
     "metadata": {},
     "output_type": "execute_result"
    }
   ],
   "source": [
    "# now inspect the column descriptions\n",
    "pisa_dict_2012"
   ]
  },
  {
   "cell_type": "code",
   "execution_count": 8,
   "metadata": {},
   "outputs": [
    {
     "data": {
      "text/html": [
       "<div>\n",
       "<style scoped>\n",
       "    .dataframe tbody tr th:only-of-type {\n",
       "        vertical-align: middle;\n",
       "    }\n",
       "\n",
       "    .dataframe tbody tr th {\n",
       "        vertical-align: top;\n",
       "    }\n",
       "\n",
       "    .dataframe thead th {\n",
       "        text-align: right;\n",
       "    }\n",
       "</style>\n",
       "<table border=\"1\" class=\"dataframe\">\n",
       "  <thead>\n",
       "    <tr style=\"text-align: right;\">\n",
       "      <th></th>\n",
       "      <th>Unnamed: 0</th>\n",
       "      <th>x</th>\n",
       "    </tr>\n",
       "  </thead>\n",
       "  <tbody>\n",
       "    <tr>\n",
       "      <th>0</th>\n",
       "      <td>CNT</td>\n",
       "      <td>Country code 3-character</td>\n",
       "    </tr>\n",
       "    <tr>\n",
       "      <th>1</th>\n",
       "      <td>SUBNATIO</td>\n",
       "      <td>Adjudicated sub-region code 7-digit code (3-di...</td>\n",
       "    </tr>\n",
       "    <tr>\n",
       "      <th>2</th>\n",
       "      <td>STRATUM</td>\n",
       "      <td>Stratum ID 7-character (cnt + region ID + orig...</td>\n",
       "    </tr>\n",
       "    <tr>\n",
       "      <th>3</th>\n",
       "      <td>OECD</td>\n",
       "      <td>OECD country</td>\n",
       "    </tr>\n",
       "    <tr>\n",
       "      <th>4</th>\n",
       "      <td>NC</td>\n",
       "      <td>National Centre 6-digit Code</td>\n",
       "    </tr>\n",
       "    <tr>\n",
       "      <th>5</th>\n",
       "      <td>SCHOOLID</td>\n",
       "      <td>School ID 7-digit (region ID + stratum ID + 3-...</td>\n",
       "    </tr>\n",
       "    <tr>\n",
       "      <th>6</th>\n",
       "      <td>STIDSTD</td>\n",
       "      <td>Student ID</td>\n",
       "    </tr>\n",
       "    <tr>\n",
       "      <th>7</th>\n",
       "      <td>ST01Q01</td>\n",
       "      <td>International Grade</td>\n",
       "    </tr>\n",
       "    <tr>\n",
       "      <th>8</th>\n",
       "      <td>ST02Q01</td>\n",
       "      <td>National Study Programme</td>\n",
       "    </tr>\n",
       "    <tr>\n",
       "      <th>9</th>\n",
       "      <td>ST03Q01</td>\n",
       "      <td>Birth - Month</td>\n",
       "    </tr>\n",
       "  </tbody>\n",
       "</table>\n",
       "</div>"
      ],
      "text/plain": [
       "  Unnamed: 0                                                  x\n",
       "0        CNT                           Country code 3-character\n",
       "1   SUBNATIO  Adjudicated sub-region code 7-digit code (3-di...\n",
       "2    STRATUM  Stratum ID 7-character (cnt + region ID + orig...\n",
       "3       OECD                                       OECD country\n",
       "4         NC                       National Centre 6-digit Code\n",
       "5   SCHOOLID  School ID 7-digit (region ID + stratum ID + 3-...\n",
       "6    STIDSTD                                         Student ID\n",
       "7    ST01Q01                                International Grade\n",
       "8    ST02Q01                           National Study Programme\n",
       "9    ST03Q01                                      Birth - Month"
      ]
     },
     "execution_count": 8,
     "metadata": {},
     "output_type": "execute_result"
    }
   ],
   "source": [
    "pisa_dict_2012.head(10)"
   ]
  },
  {
   "cell_type": "markdown",
   "metadata": {},
   "source": [
    "- There's a lot of variables that went into the survey.\n",
    "- I used Atom to open up the CSV file to read the dictionary in detail"
   ]
  },
  {
   "cell_type": "markdown",
   "metadata": {},
   "source": [
    "**I read the descriptions of the variables carefully and tried to understand how some of them were measured. Although it isn't super clear as to how some of the variables were derived, I was preparing myself for the cleaning portion as it is the longest, hardest, but the most important portion.**"
   ]
  },
  {
   "cell_type": "code",
   "execution_count": 9,
   "metadata": {},
   "outputs": [
    {
     "data": {
      "text/plain": [
       "NC\n",
       "Mexico                       33806\n",
       "Italy                        31073\n",
       "Spain                        25313\n",
       "Canada                       21544\n",
       "Brazil                       19204\n",
       "                             ...  \n",
       "New Zealand                   4291\n",
       "Iceland                       3508\n",
       "United Kingdom (Scotland)     2945\n",
       "Perm (Russian Federation)     1761\n",
       "Liechtenstein                  293\n",
       "Name: CNT, Length: 66, dtype: int64"
      ]
     },
     "execution_count": 9,
     "metadata": {},
     "output_type": "execute_result"
    }
   ],
   "source": [
    "# CNT = Country Code\n",
    "# NC  = National Centre Code \n",
    "# use groupby based on 'NC' then within each 'NC', we group based on 'CNT' \n",
    "# then count and sort values in decreaing amount \n",
    "pisa_2012.groupby('NC')['CNT'].count().sort_values(ascending=False)"
   ]
  },
  {
   "cell_type": "markdown",
   "metadata": {},
   "source": [
    " - We see that the country with the highest amount of participants was Mexico (33806) while Liechtenstein had the least amount (293)."
   ]
  },
  {
   "cell_type": "markdown",
   "metadata": {},
   "source": [
    "Further, these are the columns from the dictionary list I find interesting and want to focus my project on.\n",
    " - \"AGE\", \"Age\n",
    " - \"CNT\",\"Country code 3-character\"\n",
    " - \"ST04Q01\",\"Gender\"\n",
    " - \"ST26Q12\",\"Possessions - dictionary\"\n",
    " - \"ST25Q01\",\"International Language at Home\"\n",
    " - \"TCHBEHFA\",\"Teacher Behaviour: Formative Assessment\"\n",
    " - \"TCHBEHSO\",\"Teacher Behaviour: Student Orientation\"\n",
    " - \"TCHBEHTD\",\"Teacher Behaviour: Teacher-directed Instruction\"\n",
    " - \"PV1MATH\",\"Plausible value 1 in mathematics\"\n",
    " - \"PV2MATH\",\"Plausible value 2 in mathematics\"\n",
    " - \"PV3MATH\",\"Plausible value 3 in mathematics\"\n",
    " - \"PV4MATH\",\"Plausible value 4 in mathematics\"\n",
    " - \"PV5MATH\",\"Plausible value 5 in mathematics\"\n",
    " - \"PV1READ\",\"Plausible value 1 in reading\"\n",
    " - \"PV2READ\",\"Plausible value 2 in reading\"\n",
    " - \"PV3READ\",\"Plausible value 3 in reading\"\n",
    " - \"PV4READ\",\"Plausible value 4 in reading\"\n",
    " - \"PV5READ\",\"Plausible value 5 in reading\"\n",
    " - \"PV1SCIE\",\"Plausible value 1 in science\"\n",
    " - \"PV2SCIE\",\"Plausible value 2 in science\"\n",
    " - \"PV3SCIE\",\"Plausible value 3 in science\"\n",
    " - \"PV4SCIE\",\"Plausible value 4 in science\"\n",
    " - \"PV5SCIE\",\"Plausible value 5 in science\"\n"
   ]
  },
  {
   "cell_type": "markdown",
   "metadata": {},
   "source": [
    "### Brainstorming Questions\n",
    "\n",
    "  \n",
    "- *How did students perform in average?*\n",
    "\n",
    "- *Which gender performed better in Reading?*\n",
    "\n",
    "- *Did students with dictionaries perform better in Reading than those that didn't?*\n",
    "\n",
    "- *Do students who possess dictionaries, alsmo more likely to possess literature books?*\n",
    "\n",
    "- *What's the correlation between the three Teacher Behaviour scores?*\n",
    "\n",
    "- *What's the correlation between the three subject tests? Is there a greater correlation between Math and Science scores?*\n"
   ]
  },
  {
   "cell_type": "markdown",
   "metadata": {},
   "source": [
    "## Cleaning Data "
   ]
  },
  {
   "cell_type": "markdown",
   "metadata": {},
   "source": [
    "We know that there's 636 columns and we want to only keep the ones that will help us answer our questions."
   ]
  },
  {
   "cell_type": "code",
   "execution_count": 35,
   "metadata": {},
   "outputs": [],
   "source": [
    "# make a copy of the original df \n",
    "pisa_2012_clean = pisa_2012.copy()  "
   ]
  },
  {
   "cell_type": "code",
   "execution_count": 36,
   "metadata": {},
   "outputs": [],
   "source": [
    "# keep the columns that we will need for our analysis \n",
    "pisa_2012_clean = pisa_2012_clean[['CNT','ST04Q01','ST26Q12','AGE','ST26Q07','ST25Q01','TCHBEHFA','TCHBEHSO','TCHBEHTD','PV1MATH',\n",
    "                                   'PV2MATH', 'PV3MATH', 'PV4MATH', 'PV5MATH', 'PV1READ', 'PV2READ', 'PV3READ', \n",
    "                                   'PV4READ', 'PV5READ','PV1SCIE', 'PV2SCIE', 'PV3SCIE', 'PV4SCIE', 'PV5SCIE']]"
   ]
  },
  {
   "cell_type": "code",
   "execution_count": 37,
   "metadata": {},
   "outputs": [
    {
     "data": {
      "text/html": [
       "<div>\n",
       "<style scoped>\n",
       "    .dataframe tbody tr th:only-of-type {\n",
       "        vertical-align: middle;\n",
       "    }\n",
       "\n",
       "    .dataframe tbody tr th {\n",
       "        vertical-align: top;\n",
       "    }\n",
       "\n",
       "    .dataframe thead th {\n",
       "        text-align: right;\n",
       "    }\n",
       "</style>\n",
       "<table border=\"1\" class=\"dataframe\">\n",
       "  <thead>\n",
       "    <tr style=\"text-align: right;\">\n",
       "      <th></th>\n",
       "      <th>CNT</th>\n",
       "      <th>ST04Q01</th>\n",
       "      <th>ST26Q12</th>\n",
       "      <th>AGE</th>\n",
       "      <th>ST26Q07</th>\n",
       "      <th>ST25Q01</th>\n",
       "      <th>TCHBEHFA</th>\n",
       "      <th>TCHBEHSO</th>\n",
       "      <th>TCHBEHTD</th>\n",
       "      <th>PV1MATH</th>\n",
       "      <th>...</th>\n",
       "      <th>PV1READ</th>\n",
       "      <th>PV2READ</th>\n",
       "      <th>PV3READ</th>\n",
       "      <th>PV4READ</th>\n",
       "      <th>PV5READ</th>\n",
       "      <th>PV1SCIE</th>\n",
       "      <th>PV2SCIE</th>\n",
       "      <th>PV3SCIE</th>\n",
       "      <th>PV4SCIE</th>\n",
       "      <th>PV5SCIE</th>\n",
       "    </tr>\n",
       "  </thead>\n",
       "  <tbody>\n",
       "    <tr>\n",
       "      <th>0</th>\n",
       "      <td>Albania</td>\n",
       "      <td>Female</td>\n",
       "      <td>Yes</td>\n",
       "      <td>16.17</td>\n",
       "      <td>No</td>\n",
       "      <td>Language of the test</td>\n",
       "      <td>1.3625</td>\n",
       "      <td>0.9374</td>\n",
       "      <td>0.4297</td>\n",
       "      <td>406.8469</td>\n",
       "      <td>...</td>\n",
       "      <td>249.5762</td>\n",
       "      <td>254.3420</td>\n",
       "      <td>406.8496</td>\n",
       "      <td>175.7053</td>\n",
       "      <td>218.5981</td>\n",
       "      <td>341.7009</td>\n",
       "      <td>408.8400</td>\n",
       "      <td>348.2283</td>\n",
       "      <td>367.8105</td>\n",
       "      <td>392.9877</td>\n",
       "    </tr>\n",
       "    <tr>\n",
       "      <th>1</th>\n",
       "      <td>Albania</td>\n",
       "      <td>Female</td>\n",
       "      <td>Yes</td>\n",
       "      <td>16.17</td>\n",
       "      <td>Yes</td>\n",
       "      <td>Language of the test</td>\n",
       "      <td>NaN</td>\n",
       "      <td>NaN</td>\n",
       "      <td>NaN</td>\n",
       "      <td>486.1427</td>\n",
       "      <td>...</td>\n",
       "      <td>406.2936</td>\n",
       "      <td>349.8975</td>\n",
       "      <td>400.7334</td>\n",
       "      <td>369.7553</td>\n",
       "      <td>396.7618</td>\n",
       "      <td>548.9929</td>\n",
       "      <td>471.5964</td>\n",
       "      <td>471.5964</td>\n",
       "      <td>443.6218</td>\n",
       "      <td>454.8116</td>\n",
       "    </tr>\n",
       "    <tr>\n",
       "      <th>2</th>\n",
       "      <td>Albania</td>\n",
       "      <td>Female</td>\n",
       "      <td>Yes</td>\n",
       "      <td>15.58</td>\n",
       "      <td>Yes</td>\n",
       "      <td>Language of the test</td>\n",
       "      <td>NaN</td>\n",
       "      <td>NaN</td>\n",
       "      <td>NaN</td>\n",
       "      <td>533.2684</td>\n",
       "      <td>...</td>\n",
       "      <td>401.2100</td>\n",
       "      <td>404.3872</td>\n",
       "      <td>387.7067</td>\n",
       "      <td>431.3938</td>\n",
       "      <td>401.2100</td>\n",
       "      <td>499.6643</td>\n",
       "      <td>428.7952</td>\n",
       "      <td>492.2044</td>\n",
       "      <td>512.7191</td>\n",
       "      <td>499.6643</td>\n",
       "    </tr>\n",
       "    <tr>\n",
       "      <th>3</th>\n",
       "      <td>Albania</td>\n",
       "      <td>Female</td>\n",
       "      <td>Yes</td>\n",
       "      <td>15.67</td>\n",
       "      <td>Yes</td>\n",
       "      <td>Language of the test</td>\n",
       "      <td>0.7644</td>\n",
       "      <td>3.3108</td>\n",
       "      <td>2.3916</td>\n",
       "      <td>412.2215</td>\n",
       "      <td>...</td>\n",
       "      <td>547.3630</td>\n",
       "      <td>481.4353</td>\n",
       "      <td>461.5776</td>\n",
       "      <td>425.0393</td>\n",
       "      <td>471.9036</td>\n",
       "      <td>438.6796</td>\n",
       "      <td>481.5740</td>\n",
       "      <td>448.9370</td>\n",
       "      <td>474.1141</td>\n",
       "      <td>426.5573</td>\n",
       "    </tr>\n",
       "    <tr>\n",
       "      <th>4</th>\n",
       "      <td>Albania</td>\n",
       "      <td>Female</td>\n",
       "      <td>Yes</td>\n",
       "      <td>15.50</td>\n",
       "      <td>Yes</td>\n",
       "      <td>Language of the test</td>\n",
       "      <td>0.7644</td>\n",
       "      <td>0.9374</td>\n",
       "      <td>0.4297</td>\n",
       "      <td>381.9209</td>\n",
       "      <td>...</td>\n",
       "      <td>311.7707</td>\n",
       "      <td>141.7883</td>\n",
       "      <td>293.5015</td>\n",
       "      <td>272.8495</td>\n",
       "      <td>260.1405</td>\n",
       "      <td>361.5628</td>\n",
       "      <td>275.7740</td>\n",
       "      <td>372.7527</td>\n",
       "      <td>403.5248</td>\n",
       "      <td>422.1746</td>\n",
       "    </tr>\n",
       "    <tr>\n",
       "      <th>...</th>\n",
       "      <td>...</td>\n",
       "      <td>...</td>\n",
       "      <td>...</td>\n",
       "      <td>...</td>\n",
       "      <td>...</td>\n",
       "      <td>...</td>\n",
       "      <td>...</td>\n",
       "      <td>...</td>\n",
       "      <td>...</td>\n",
       "      <td>...</td>\n",
       "      <td>...</td>\n",
       "      <td>...</td>\n",
       "      <td>...</td>\n",
       "      <td>...</td>\n",
       "      <td>...</td>\n",
       "      <td>...</td>\n",
       "      <td>...</td>\n",
       "      <td>...</td>\n",
       "      <td>...</td>\n",
       "      <td>...</td>\n",
       "      <td>...</td>\n",
       "    </tr>\n",
       "    <tr>\n",
       "      <th>485485</th>\n",
       "      <td>Vietnam</td>\n",
       "      <td>Female</td>\n",
       "      <td>Yes</td>\n",
       "      <td>15.83</td>\n",
       "      <td>No</td>\n",
       "      <td>Language of the test</td>\n",
       "      <td>NaN</td>\n",
       "      <td>NaN</td>\n",
       "      <td>NaN</td>\n",
       "      <td>477.1849</td>\n",
       "      <td>...</td>\n",
       "      <td>460.2272</td>\n",
       "      <td>476.1134</td>\n",
       "      <td>472.9362</td>\n",
       "      <td>472.1419</td>\n",
       "      <td>481.6736</td>\n",
       "      <td>559.8098</td>\n",
       "      <td>528.1052</td>\n",
       "      <td>519.7128</td>\n",
       "      <td>535.5651</td>\n",
       "      <td>538.3626</td>\n",
       "    </tr>\n",
       "    <tr>\n",
       "      <th>485486</th>\n",
       "      <td>Vietnam</td>\n",
       "      <td>Male</td>\n",
       "      <td>Yes</td>\n",
       "      <td>16.17</td>\n",
       "      <td>Yes</td>\n",
       "      <td>Language of the test</td>\n",
       "      <td>-0.2859</td>\n",
       "      <td>-0.1057</td>\n",
       "      <td>0.4297</td>\n",
       "      <td>518.9360</td>\n",
       "      <td>...</td>\n",
       "      <td>490.9325</td>\n",
       "      <td>479.7053</td>\n",
       "      <td>448.4294</td>\n",
       "      <td>565.5134</td>\n",
       "      <td>451.6372</td>\n",
       "      <td>538.7355</td>\n",
       "      <td>493.9761</td>\n",
       "      <td>493.0436</td>\n",
       "      <td>561.1153</td>\n",
       "      <td>535.0056</td>\n",
       "    </tr>\n",
       "    <tr>\n",
       "      <th>485487</th>\n",
       "      <td>Vietnam</td>\n",
       "      <td>Male</td>\n",
       "      <td>Yes</td>\n",
       "      <td>15.83</td>\n",
       "      <td>No</td>\n",
       "      <td>Language of the test</td>\n",
       "      <td>-0.9632</td>\n",
       "      <td>-0.1057</td>\n",
       "      <td>-0.5612</td>\n",
       "      <td>475.2376</td>\n",
       "      <td>...</td>\n",
       "      <td>462.6239</td>\n",
       "      <td>514.7503</td>\n",
       "      <td>434.5558</td>\n",
       "      <td>457.8122</td>\n",
       "      <td>511.5425</td>\n",
       "      <td>536.8706</td>\n",
       "      <td>571.3726</td>\n",
       "      <td>488.3812</td>\n",
       "      <td>548.9929</td>\n",
       "      <td>563.9127</td>\n",
       "    </tr>\n",
       "    <tr>\n",
       "      <th>485488</th>\n",
       "      <td>Vietnam</td>\n",
       "      <td>Male</td>\n",
       "      <td>Yes</td>\n",
       "      <td>15.83</td>\n",
       "      <td>No</td>\n",
       "      <td>Language of the test</td>\n",
       "      <td>-0.2859</td>\n",
       "      <td>0.2217</td>\n",
       "      <td>0.4297</td>\n",
       "      <td>550.9503</td>\n",
       "      <td>...</td>\n",
       "      <td>505.2873</td>\n",
       "      <td>522.1282</td>\n",
       "      <td>513.3068</td>\n",
       "      <td>528.5437</td>\n",
       "      <td>522.9301</td>\n",
       "      <td>511.0407</td>\n",
       "      <td>532.4879</td>\n",
       "      <td>524.0955</td>\n",
       "      <td>551.1376</td>\n",
       "      <td>514.7706</td>\n",
       "    </tr>\n",
       "    <tr>\n",
       "      <th>485489</th>\n",
       "      <td>Vietnam</td>\n",
       "      <td>Female</td>\n",
       "      <td>Yes</td>\n",
       "      <td>15.33</td>\n",
       "      <td>Yes</td>\n",
       "      <td>Language of the test</td>\n",
       "      <td>NaN</td>\n",
       "      <td>NaN</td>\n",
       "      <td>NaN</td>\n",
       "      <td>470.0187</td>\n",
       "      <td>...</td>\n",
       "      <td>532.3506</td>\n",
       "      <td>483.1034</td>\n",
       "      <td>479.9261</td>\n",
       "      <td>459.2741</td>\n",
       "      <td>488.6635</td>\n",
       "      <td>530.6229</td>\n",
       "      <td>473.7411</td>\n",
       "      <td>477.4711</td>\n",
       "      <td>477.4711</td>\n",
       "      <td>505.4457</td>\n",
       "    </tr>\n",
       "  </tbody>\n",
       "</table>\n",
       "<p>485490 rows × 24 columns</p>\n",
       "</div>"
      ],
      "text/plain": [
       "            CNT ST04Q01 ST26Q12    AGE ST26Q07               ST25Q01  \\\n",
       "0       Albania  Female     Yes  16.17      No  Language of the test   \n",
       "1       Albania  Female     Yes  16.17     Yes  Language of the test   \n",
       "2       Albania  Female     Yes  15.58     Yes  Language of the test   \n",
       "3       Albania  Female     Yes  15.67     Yes  Language of the test   \n",
       "4       Albania  Female     Yes  15.50     Yes  Language of the test   \n",
       "...         ...     ...     ...    ...     ...                   ...   \n",
       "485485  Vietnam  Female     Yes  15.83      No  Language of the test   \n",
       "485486  Vietnam    Male     Yes  16.17     Yes  Language of the test   \n",
       "485487  Vietnam    Male     Yes  15.83      No  Language of the test   \n",
       "485488  Vietnam    Male     Yes  15.83      No  Language of the test   \n",
       "485489  Vietnam  Female     Yes  15.33     Yes  Language of the test   \n",
       "\n",
       "        TCHBEHFA  TCHBEHSO  TCHBEHTD   PV1MATH  ...   PV1READ   PV2READ  \\\n",
       "0         1.3625    0.9374    0.4297  406.8469  ...  249.5762  254.3420   \n",
       "1            NaN       NaN       NaN  486.1427  ...  406.2936  349.8975   \n",
       "2            NaN       NaN       NaN  533.2684  ...  401.2100  404.3872   \n",
       "3         0.7644    3.3108    2.3916  412.2215  ...  547.3630  481.4353   \n",
       "4         0.7644    0.9374    0.4297  381.9209  ...  311.7707  141.7883   \n",
       "...          ...       ...       ...       ...  ...       ...       ...   \n",
       "485485       NaN       NaN       NaN  477.1849  ...  460.2272  476.1134   \n",
       "485486   -0.2859   -0.1057    0.4297  518.9360  ...  490.9325  479.7053   \n",
       "485487   -0.9632   -0.1057   -0.5612  475.2376  ...  462.6239  514.7503   \n",
       "485488   -0.2859    0.2217    0.4297  550.9503  ...  505.2873  522.1282   \n",
       "485489       NaN       NaN       NaN  470.0187  ...  532.3506  483.1034   \n",
       "\n",
       "         PV3READ   PV4READ   PV5READ   PV1SCIE   PV2SCIE   PV3SCIE   PV4SCIE  \\\n",
       "0       406.8496  175.7053  218.5981  341.7009  408.8400  348.2283  367.8105   \n",
       "1       400.7334  369.7553  396.7618  548.9929  471.5964  471.5964  443.6218   \n",
       "2       387.7067  431.3938  401.2100  499.6643  428.7952  492.2044  512.7191   \n",
       "3       461.5776  425.0393  471.9036  438.6796  481.5740  448.9370  474.1141   \n",
       "4       293.5015  272.8495  260.1405  361.5628  275.7740  372.7527  403.5248   \n",
       "...          ...       ...       ...       ...       ...       ...       ...   \n",
       "485485  472.9362  472.1419  481.6736  559.8098  528.1052  519.7128  535.5651   \n",
       "485486  448.4294  565.5134  451.6372  538.7355  493.9761  493.0436  561.1153   \n",
       "485487  434.5558  457.8122  511.5425  536.8706  571.3726  488.3812  548.9929   \n",
       "485488  513.3068  528.5437  522.9301  511.0407  532.4879  524.0955  551.1376   \n",
       "485489  479.9261  459.2741  488.6635  530.6229  473.7411  477.4711  477.4711   \n",
       "\n",
       "         PV5SCIE  \n",
       "0       392.9877  \n",
       "1       454.8116  \n",
       "2       499.6643  \n",
       "3       426.5573  \n",
       "4       422.1746  \n",
       "...          ...  \n",
       "485485  538.3626  \n",
       "485486  535.0056  \n",
       "485487  563.9127  \n",
       "485488  514.7706  \n",
       "485489  505.4457  \n",
       "\n",
       "[485490 rows x 24 columns]"
      ]
     },
     "execution_count": 37,
     "metadata": {},
     "output_type": "execute_result"
    }
   ],
   "source": [
    "# inspect \n",
    "pisa_2012_clean"
   ]
  },
  {
   "cell_type": "code",
   "execution_count": 38,
   "metadata": {},
   "outputs": [
    {
     "name": "stdout",
     "output_type": "stream",
     "text": [
      "<class 'pandas.core.frame.DataFrame'>\n",
      "RangeIndex: 485490 entries, 0 to 485489\n",
      "Data columns (total 24 columns):\n",
      " #   Column    Non-Null Count   Dtype  \n",
      "---  ------    --------------   -----  \n",
      " 0   CNT       485490 non-null  object \n",
      " 1   ST04Q01   485490 non-null  object \n",
      " 2   ST26Q12   474039 non-null  object \n",
      " 3   AGE       485374 non-null  float64\n",
      " 4   ST26Q07   465860 non-null  object \n",
      " 5   ST25Q01   465496 non-null  object \n",
      " 6   TCHBEHFA  314678 non-null  float64\n",
      " 7   TCHBEHSO  315114 non-null  float64\n",
      " 8   TCHBEHTD  315519 non-null  float64\n",
      " 9   PV1MATH   485490 non-null  float64\n",
      " 10  PV2MATH   485490 non-null  float64\n",
      " 11  PV3MATH   485490 non-null  float64\n",
      " 12  PV4MATH   485490 non-null  float64\n",
      " 13  PV5MATH   485490 non-null  float64\n",
      " 14  PV1READ   485490 non-null  float64\n",
      " 15  PV2READ   485490 non-null  float64\n",
      " 16  PV3READ   485490 non-null  float64\n",
      " 17  PV4READ   485490 non-null  float64\n",
      " 18  PV5READ   485490 non-null  float64\n",
      " 19  PV1SCIE   485490 non-null  float64\n",
      " 20  PV2SCIE   485490 non-null  float64\n",
      " 21  PV3SCIE   485490 non-null  float64\n",
      " 22  PV4SCIE   485490 non-null  float64\n",
      " 23  PV5SCIE   485490 non-null  float64\n",
      "dtypes: float64(19), object(5)\n",
      "memory usage: 88.9+ MB\n"
     ]
    }
   ],
   "source": [
    "# doublecheck \n",
    "pisa_2012_clean.info()"
   ]
  },
  {
   "cell_type": "markdown",
   "metadata": {},
   "source": [
    "#### I'm looking at the column above and my goal is to decrease the number of columns."
   ]
  },
  {
   "cell_type": "markdown",
   "metadata": {},
   "source": [
    "Let's first replace the missing values of in AGE column with the average."
   ]
  },
  {
   "cell_type": "code",
   "execution_count": 39,
   "metadata": {},
   "outputs": [
    {
     "name": "stdout",
     "output_type": "stream",
     "text": [
      "<class 'pandas.core.frame.DataFrame'>\n",
      "RangeIndex: 485490 entries, 0 to 485489\n",
      "Data columns (total 24 columns):\n",
      " #   Column    Non-Null Count   Dtype  \n",
      "---  ------    --------------   -----  \n",
      " 0   CNT       485490 non-null  object \n",
      " 1   ST04Q01   485490 non-null  object \n",
      " 2   ST26Q12   474039 non-null  object \n",
      " 3   AGE       485490 non-null  float64\n",
      " 4   ST26Q07   465860 non-null  object \n",
      " 5   ST25Q01   465496 non-null  object \n",
      " 6   TCHBEHFA  314678 non-null  float64\n",
      " 7   TCHBEHSO  315114 non-null  float64\n",
      " 8   TCHBEHTD  315519 non-null  float64\n",
      " 9   PV1MATH   485490 non-null  float64\n",
      " 10  PV2MATH   485490 non-null  float64\n",
      " 11  PV3MATH   485490 non-null  float64\n",
      " 12  PV4MATH   485490 non-null  float64\n",
      " 13  PV5MATH   485490 non-null  float64\n",
      " 14  PV1READ   485490 non-null  float64\n",
      " 15  PV2READ   485490 non-null  float64\n",
      " 16  PV3READ   485490 non-null  float64\n",
      " 17  PV4READ   485490 non-null  float64\n",
      " 18  PV5READ   485490 non-null  float64\n",
      " 19  PV1SCIE   485490 non-null  float64\n",
      " 20  PV2SCIE   485490 non-null  float64\n",
      " 21  PV3SCIE   485490 non-null  float64\n",
      " 22  PV4SCIE   485490 non-null  float64\n",
      " 23  PV5SCIE   485490 non-null  float64\n",
      "dtypes: float64(19), object(5)\n",
      "memory usage: 88.9+ MB\n"
     ]
    }
   ],
   "source": [
    "#https://docs.scipy.org/doc/numpy-1.13.0/reference/generated/numpy.isfinite.html\n",
    "pisa_2012_clean.loc[np.isfinite(pisa_2012_clean['AGE']) == False, 'AGE'] = pisa_2012_clean['AGE'].mean()\n",
    "pisa_2012_clean.info()"
   ]
  },
  {
   "cell_type": "markdown",
   "metadata": {},
   "source": [
    "Now, let's do the same for the three Teacher Behaviors."
   ]
  },
  {
   "cell_type": "code",
   "execution_count": 40,
   "metadata": {},
   "outputs": [
    {
     "name": "stdout",
     "output_type": "stream",
     "text": [
      "<class 'pandas.core.frame.DataFrame'>\n",
      "RangeIndex: 485490 entries, 0 to 485489\n",
      "Data columns (total 24 columns):\n",
      " #   Column    Non-Null Count   Dtype  \n",
      "---  ------    --------------   -----  \n",
      " 0   CNT       485490 non-null  object \n",
      " 1   ST04Q01   485490 non-null  object \n",
      " 2   ST26Q12   474039 non-null  object \n",
      " 3   AGE       485490 non-null  float64\n",
      " 4   ST26Q07   465860 non-null  object \n",
      " 5   ST25Q01   465496 non-null  object \n",
      " 6   TCHBEHFA  485490 non-null  float64\n",
      " 7   TCHBEHSO  485490 non-null  float64\n",
      " 8   TCHBEHTD  485490 non-null  float64\n",
      " 9   PV1MATH   485490 non-null  float64\n",
      " 10  PV2MATH   485490 non-null  float64\n",
      " 11  PV3MATH   485490 non-null  float64\n",
      " 12  PV4MATH   485490 non-null  float64\n",
      " 13  PV5MATH   485490 non-null  float64\n",
      " 14  PV1READ   485490 non-null  float64\n",
      " 15  PV2READ   485490 non-null  float64\n",
      " 16  PV3READ   485490 non-null  float64\n",
      " 17  PV4READ   485490 non-null  float64\n",
      " 18  PV5READ   485490 non-null  float64\n",
      " 19  PV1SCIE   485490 non-null  float64\n",
      " 20  PV2SCIE   485490 non-null  float64\n",
      " 21  PV3SCIE   485490 non-null  float64\n",
      " 22  PV4SCIE   485490 non-null  float64\n",
      " 23  PV5SCIE   485490 non-null  float64\n",
      "dtypes: float64(19), object(5)\n",
      "memory usage: 88.9+ MB\n"
     ]
    }
   ],
   "source": [
    "# https://docs.scipy.org/doc/numpy-1.13.0/reference/generated/numpy.isfinite.html\n",
    "# repeat the same process above for each teacher behavior \n",
    "pisa_2012_clean.loc[np.isfinite(pisa_2012_clean['TCHBEHFA']) == False, 'TCHBEHFA'] = pisa_2012_clean['TCHBEHFA'].mean()\n",
    "pisa_2012_clean.loc[np.isfinite(pisa_2012_clean['TCHBEHSO']) == False, 'TCHBEHSO'] = pisa_2012_clean['TCHBEHSO'].mean()\n",
    "pisa_2012_clean.loc[np.isfinite(pisa_2012_clean['TCHBEHTD']) == False, 'TCHBEHTD'] = pisa_2012_clean['TCHBEHTD'].mean()\n",
    "pisa_2012_clean.info()"
   ]
  },
  {
   "cell_type": "markdown",
   "metadata": {},
   "source": [
    "Now we have all the missing values filled in, we can organize them. Let's first look at our plausible values of each subject. We can create a separate column for each subject (Math, Reading, and Science) and each column will contain the mean value."
   ]
  },
  {
   "cell_type": "code",
   "execution_count": 41,
   "metadata": {},
   "outputs": [],
   "source": [
    "# we have 5 plausible values per subject, so add them in their own respective subject and divide by 5 \n",
    "# store each results in its own respective subject column \n",
    "pisa_2012_clean['Math Score'] = (pisa_2012_clean['PV1MATH'] + pisa_2012_clean['PV2MATH'] + pisa_2012_clean['PV3MATH']+ pisa_2012_clean['PV4MATH'] + pisa_2012_clean['PV5MATH']) / 5\n",
    "pisa_2012_clean['Reading Score'] = (pisa_2012_clean['PV1READ'] + pisa_2012_clean['PV2READ'] + pisa_2012_clean['PV3READ']+ pisa_2012_clean['PV4READ'] + pisa_2012_clean['PV5READ']) / 5\n",
    "pisa_2012_clean['Science Score'] = (pisa_2012_clean['PV1SCIE'] + pisa_2012_clean['PV2SCIE'] + pisa_2012_clean['PV3SCIE']+ pisa_2012_clean['PV4SCIE'] + pisa_2012_clean['PV5SCIE']) / 5"
   ]
  },
  {
   "cell_type": "code",
   "execution_count": 42,
   "metadata": {},
   "outputs": [
    {
     "name": "stdout",
     "output_type": "stream",
     "text": [
      "<class 'pandas.core.frame.DataFrame'>\n",
      "RangeIndex: 485490 entries, 0 to 485489\n",
      "Data columns (total 27 columns):\n",
      " #   Column         Non-Null Count   Dtype  \n",
      "---  ------         --------------   -----  \n",
      " 0   CNT            485490 non-null  object \n",
      " 1   ST04Q01        485490 non-null  object \n",
      " 2   ST26Q12        474039 non-null  object \n",
      " 3   AGE            485490 non-null  float64\n",
      " 4   ST26Q07        465860 non-null  object \n",
      " 5   ST25Q01        465496 non-null  object \n",
      " 6   TCHBEHFA       485490 non-null  float64\n",
      " 7   TCHBEHSO       485490 non-null  float64\n",
      " 8   TCHBEHTD       485490 non-null  float64\n",
      " 9   PV1MATH        485490 non-null  float64\n",
      " 10  PV2MATH        485490 non-null  float64\n",
      " 11  PV3MATH        485490 non-null  float64\n",
      " 12  PV4MATH        485490 non-null  float64\n",
      " 13  PV5MATH        485490 non-null  float64\n",
      " 14  PV1READ        485490 non-null  float64\n",
      " 15  PV2READ        485490 non-null  float64\n",
      " 16  PV3READ        485490 non-null  float64\n",
      " 17  PV4READ        485490 non-null  float64\n",
      " 18  PV5READ        485490 non-null  float64\n",
      " 19  PV1SCIE        485490 non-null  float64\n",
      " 20  PV2SCIE        485490 non-null  float64\n",
      " 21  PV3SCIE        485490 non-null  float64\n",
      " 22  PV4SCIE        485490 non-null  float64\n",
      " 23  PV5SCIE        485490 non-null  float64\n",
      " 24  Math Score     485490 non-null  float64\n",
      " 25  Reading Score  485490 non-null  float64\n",
      " 26  Science Score  485490 non-null  float64\n",
      "dtypes: float64(22), object(5)\n",
      "memory usage: 100.0+ MB\n"
     ]
    }
   ],
   "source": [
    "pisa_2012_clean.info()"
   ]
  },
  {
   "cell_type": "code",
   "execution_count": 43,
   "metadata": {},
   "outputs": [
    {
     "data": {
      "text/html": [
       "<div>\n",
       "<style scoped>\n",
       "    .dataframe tbody tr th:only-of-type {\n",
       "        vertical-align: middle;\n",
       "    }\n",
       "\n",
       "    .dataframe tbody tr th {\n",
       "        vertical-align: top;\n",
       "    }\n",
       "\n",
       "    .dataframe thead th {\n",
       "        text-align: right;\n",
       "    }\n",
       "</style>\n",
       "<table border=\"1\" class=\"dataframe\">\n",
       "  <thead>\n",
       "    <tr style=\"text-align: right;\">\n",
       "      <th></th>\n",
       "      <th>CNT</th>\n",
       "      <th>ST04Q01</th>\n",
       "      <th>ST26Q12</th>\n",
       "      <th>AGE</th>\n",
       "      <th>ST26Q07</th>\n",
       "      <th>ST25Q01</th>\n",
       "      <th>TCHBEHFA</th>\n",
       "      <th>TCHBEHSO</th>\n",
       "      <th>TCHBEHTD</th>\n",
       "      <th>Math Score</th>\n",
       "      <th>Reading Score</th>\n",
       "      <th>Science Score</th>\n",
       "    </tr>\n",
       "  </thead>\n",
       "  <tbody>\n",
       "    <tr>\n",
       "      <th>0</th>\n",
       "      <td>Albania</td>\n",
       "      <td>Female</td>\n",
       "      <td>Yes</td>\n",
       "      <td>16.17</td>\n",
       "      <td>No</td>\n",
       "      <td>Language of the test</td>\n",
       "      <td>1.36250</td>\n",
       "      <td>0.937400</td>\n",
       "      <td>0.429700</td>\n",
       "      <td>366.18634</td>\n",
       "      <td>261.01424</td>\n",
       "      <td>371.91348</td>\n",
       "    </tr>\n",
       "    <tr>\n",
       "      <th>1</th>\n",
       "      <td>Albania</td>\n",
       "      <td>Female</td>\n",
       "      <td>Yes</td>\n",
       "      <td>16.17</td>\n",
       "      <td>Yes</td>\n",
       "      <td>Language of the test</td>\n",
       "      <td>0.13793</td>\n",
       "      <td>0.209052</td>\n",
       "      <td>0.147423</td>\n",
       "      <td>470.56396</td>\n",
       "      <td>384.68832</td>\n",
       "      <td>478.12382</td>\n",
       "    </tr>\n",
       "    <tr>\n",
       "      <th>2</th>\n",
       "      <td>Albania</td>\n",
       "      <td>Female</td>\n",
       "      <td>Yes</td>\n",
       "      <td>15.58</td>\n",
       "      <td>Yes</td>\n",
       "      <td>Language of the test</td>\n",
       "      <td>0.13793</td>\n",
       "      <td>0.209052</td>\n",
       "      <td>0.147423</td>\n",
       "      <td>505.53824</td>\n",
       "      <td>405.18154</td>\n",
       "      <td>486.60946</td>\n",
       "    </tr>\n",
       "    <tr>\n",
       "      <th>3</th>\n",
       "      <td>Albania</td>\n",
       "      <td>Female</td>\n",
       "      <td>Yes</td>\n",
       "      <td>15.67</td>\n",
       "      <td>Yes</td>\n",
       "      <td>Language of the test</td>\n",
       "      <td>0.76440</td>\n",
       "      <td>3.310800</td>\n",
       "      <td>2.391600</td>\n",
       "      <td>449.45476</td>\n",
       "      <td>477.46376</td>\n",
       "      <td>453.97240</td>\n",
       "    </tr>\n",
       "    <tr>\n",
       "      <th>4</th>\n",
       "      <td>Albania</td>\n",
       "      <td>Female</td>\n",
       "      <td>Yes</td>\n",
       "      <td>15.50</td>\n",
       "      <td>Yes</td>\n",
       "      <td>Language of the test</td>\n",
       "      <td>0.76440</td>\n",
       "      <td>0.937400</td>\n",
       "      <td>0.429700</td>\n",
       "      <td>385.50398</td>\n",
       "      <td>256.01010</td>\n",
       "      <td>367.15778</td>\n",
       "    </tr>\n",
       "    <tr>\n",
       "      <th>...</th>\n",
       "      <td>...</td>\n",
       "      <td>...</td>\n",
       "      <td>...</td>\n",
       "      <td>...</td>\n",
       "      <td>...</td>\n",
       "      <td>...</td>\n",
       "      <td>...</td>\n",
       "      <td>...</td>\n",
       "      <td>...</td>\n",
       "      <td>...</td>\n",
       "      <td>...</td>\n",
       "      <td>...</td>\n",
       "    </tr>\n",
       "    <tr>\n",
       "      <th>485485</th>\n",
       "      <td>Vietnam</td>\n",
       "      <td>Female</td>\n",
       "      <td>Yes</td>\n",
       "      <td>15.83</td>\n",
       "      <td>No</td>\n",
       "      <td>Language of the test</td>\n",
       "      <td>0.13793</td>\n",
       "      <td>0.209052</td>\n",
       "      <td>0.147423</td>\n",
       "      <td>486.22058</td>\n",
       "      <td>472.61846</td>\n",
       "      <td>536.31110</td>\n",
       "    </tr>\n",
       "    <tr>\n",
       "      <th>485486</th>\n",
       "      <td>Vietnam</td>\n",
       "      <td>Male</td>\n",
       "      <td>Yes</td>\n",
       "      <td>16.17</td>\n",
       "      <td>Yes</td>\n",
       "      <td>Language of the test</td>\n",
       "      <td>-0.28590</td>\n",
       "      <td>-0.105700</td>\n",
       "      <td>0.429700</td>\n",
       "      <td>529.21794</td>\n",
       "      <td>487.24356</td>\n",
       "      <td>524.37522</td>\n",
       "    </tr>\n",
       "    <tr>\n",
       "      <th>485487</th>\n",
       "      <td>Vietnam</td>\n",
       "      <td>Male</td>\n",
       "      <td>Yes</td>\n",
       "      <td>15.83</td>\n",
       "      <td>No</td>\n",
       "      <td>Language of the test</td>\n",
       "      <td>-0.96320</td>\n",
       "      <td>-0.105700</td>\n",
       "      <td>-0.561200</td>\n",
       "      <td>486.29850</td>\n",
       "      <td>476.25694</td>\n",
       "      <td>541.90600</td>\n",
       "    </tr>\n",
       "    <tr>\n",
       "      <th>485488</th>\n",
       "      <td>Vietnam</td>\n",
       "      <td>Male</td>\n",
       "      <td>Yes</td>\n",
       "      <td>15.83</td>\n",
       "      <td>No</td>\n",
       "      <td>Language of the test</td>\n",
       "      <td>-0.28590</td>\n",
       "      <td>0.221700</td>\n",
       "      <td>0.429700</td>\n",
       "      <td>522.90856</td>\n",
       "      <td>518.43922</td>\n",
       "      <td>526.70646</td>\n",
       "    </tr>\n",
       "    <tr>\n",
       "      <th>485489</th>\n",
       "      <td>Vietnam</td>\n",
       "      <td>Female</td>\n",
       "      <td>Yes</td>\n",
       "      <td>15.33</td>\n",
       "      <td>Yes</td>\n",
       "      <td>Language of the test</td>\n",
       "      <td>0.13793</td>\n",
       "      <td>0.209052</td>\n",
       "      <td>0.147423</td>\n",
       "      <td>454.43994</td>\n",
       "      <td>488.66354</td>\n",
       "      <td>492.95038</td>\n",
       "    </tr>\n",
       "  </tbody>\n",
       "</table>\n",
       "<p>485490 rows × 12 columns</p>\n",
       "</div>"
      ],
      "text/plain": [
       "            CNT ST04Q01 ST26Q12    AGE ST26Q07               ST25Q01  \\\n",
       "0       Albania  Female     Yes  16.17      No  Language of the test   \n",
       "1       Albania  Female     Yes  16.17     Yes  Language of the test   \n",
       "2       Albania  Female     Yes  15.58     Yes  Language of the test   \n",
       "3       Albania  Female     Yes  15.67     Yes  Language of the test   \n",
       "4       Albania  Female     Yes  15.50     Yes  Language of the test   \n",
       "...         ...     ...     ...    ...     ...                   ...   \n",
       "485485  Vietnam  Female     Yes  15.83      No  Language of the test   \n",
       "485486  Vietnam    Male     Yes  16.17     Yes  Language of the test   \n",
       "485487  Vietnam    Male     Yes  15.83      No  Language of the test   \n",
       "485488  Vietnam    Male     Yes  15.83      No  Language of the test   \n",
       "485489  Vietnam  Female     Yes  15.33     Yes  Language of the test   \n",
       "\n",
       "        TCHBEHFA  TCHBEHSO  TCHBEHTD  Math Score  Reading Score  Science Score  \n",
       "0        1.36250  0.937400  0.429700   366.18634      261.01424      371.91348  \n",
       "1        0.13793  0.209052  0.147423   470.56396      384.68832      478.12382  \n",
       "2        0.13793  0.209052  0.147423   505.53824      405.18154      486.60946  \n",
       "3        0.76440  3.310800  2.391600   449.45476      477.46376      453.97240  \n",
       "4        0.76440  0.937400  0.429700   385.50398      256.01010      367.15778  \n",
       "...          ...       ...       ...         ...            ...            ...  \n",
       "485485   0.13793  0.209052  0.147423   486.22058      472.61846      536.31110  \n",
       "485486  -0.28590 -0.105700  0.429700   529.21794      487.24356      524.37522  \n",
       "485487  -0.96320 -0.105700 -0.561200   486.29850      476.25694      541.90600  \n",
       "485488  -0.28590  0.221700  0.429700   522.90856      518.43922      526.70646  \n",
       "485489   0.13793  0.209052  0.147423   454.43994      488.66354      492.95038  \n",
       "\n",
       "[485490 rows x 12 columns]"
      ]
     },
     "execution_count": 43,
     "metadata": {},
     "output_type": "execute_result"
    }
   ],
   "source": [
    "# now we can drop the columns\n",
    "pisa_2012_clean.drop(pisa_2012_clean.iloc[:, 9:24], inplace = True, axis = 1) \n",
    "pisa_2012_clean"
   ]
  },
  {
   "cell_type": "code",
   "execution_count": 44,
   "metadata": {},
   "outputs": [
    {
     "name": "stdout",
     "output_type": "stream",
     "text": [
      "<class 'pandas.core.frame.DataFrame'>\n",
      "RangeIndex: 485490 entries, 0 to 485489\n",
      "Data columns (total 12 columns):\n",
      " #   Column         Non-Null Count   Dtype  \n",
      "---  ------         --------------   -----  \n",
      " 0   CNT            485490 non-null  object \n",
      " 1   ST04Q01        485490 non-null  object \n",
      " 2   ST26Q12        474039 non-null  object \n",
      " 3   AGE            485490 non-null  float64\n",
      " 4   ST26Q07        465860 non-null  object \n",
      " 5   ST25Q01        465496 non-null  object \n",
      " 6   TCHBEHFA       485490 non-null  float64\n",
      " 7   TCHBEHSO       485490 non-null  float64\n",
      " 8   TCHBEHTD       485490 non-null  float64\n",
      " 9   Math Score     485490 non-null  float64\n",
      " 10  Reading Score  485490 non-null  float64\n",
      " 11  Science Score  485490 non-null  float64\n",
      "dtypes: float64(7), object(5)\n",
      "memory usage: 44.4+ MB\n"
     ]
    }
   ],
   "source": [
    "# double check\n",
    "pisa_2012_clean.info()"
   ]
  },
  {
   "cell_type": "markdown",
   "metadata": {},
   "source": [
    "**Getting a long. Now, although the three Teacher Behavior evaluations/scores may seem like they can be grouped but that's not the case. This is because they aren't plausible values like the test subjects values we just cleaned up. These three Teacher Behavior scores measured a specific teaching style which will be explained further.**\n"
   ]
  },
  {
   "cell_type": "markdown",
   "metadata": {},
   "source": [
    "Let's fill in the missing values for the three columns below as unkown"
   ]
  },
  {
   "cell_type": "code",
   "execution_count": 45,
   "metadata": {},
   "outputs": [],
   "source": [
    "# replace all NaN values for Dictionary as NA\n",
    "pisa_2012_clean.loc[pisa_2012_clean['ST26Q12'].isna() == True,'ST26Q12'] = 'NA'"
   ]
  },
  {
   "cell_type": "code",
   "execution_count": 46,
   "metadata": {},
   "outputs": [],
   "source": [
    "# replace all NaN values for Literature as NA\n",
    "pisa_2012_clean.loc[pisa_2012_clean['ST26Q07'].isna() == True,'ST26Q07'] = 'NA'"
   ]
  },
  {
   "cell_type": "code",
   "execution_count": 47,
   "metadata": {},
   "outputs": [],
   "source": [
    "# replace all Nan values for International Language at Home as NA\n",
    "pisa_2012_clean.loc[pisa_2012_clean['ST25Q01'].isna() == True,'ST25Q01'] = 'NA'"
   ]
  },
  {
   "cell_type": "markdown",
   "metadata": {},
   "source": [
    "We can change the default variable names for the sake of the project."
   ]
  },
  {
   "cell_type": "code",
   "execution_count": 48,
   "metadata": {},
   "outputs": [],
   "source": [
    "# https://www.oecd.org/pisa/pisaproducts/PISA%202012%20Technical%20Report_Chapter%2016.pdf\n",
    "# rename the column names \n",
    "pisa_2012_clean.rename({'CNT':'Country',\n",
    "                        'AGE':'Age',\n",
    "                        'ST04Q01':'Gender',\n",
    "                        'ST26Q12': 'Dictionary',\n",
    "                        'ST26Q07': 'Literature',\n",
    "                        'ST25Q01': 'Test Language', # IT SHOWS IF THE STUDENT TOOK THE TEST IN THEIR NATIVE TOUNGE \n",
    "                        'TCHBEHFA':'Formative Assessment',\n",
    "                        'TCHBEHSO' :'Student Orientation',\n",
    "                        'TCHBEHTD' : 'Teacher-Directed Instruction'}, axis = 'columns', inplace = True)"
   ]
  },
  {
   "cell_type": "code",
   "execution_count": 49,
   "metadata": {},
   "outputs": [
    {
     "data": {
      "text/html": [
       "<div>\n",
       "<style scoped>\n",
       "    .dataframe tbody tr th:only-of-type {\n",
       "        vertical-align: middle;\n",
       "    }\n",
       "\n",
       "    .dataframe tbody tr th {\n",
       "        vertical-align: top;\n",
       "    }\n",
       "\n",
       "    .dataframe thead th {\n",
       "        text-align: right;\n",
       "    }\n",
       "</style>\n",
       "<table border=\"1\" class=\"dataframe\">\n",
       "  <thead>\n",
       "    <tr style=\"text-align: right;\">\n",
       "      <th></th>\n",
       "      <th>Country</th>\n",
       "      <th>Gender</th>\n",
       "      <th>Dictionary</th>\n",
       "      <th>Age</th>\n",
       "      <th>Literature</th>\n",
       "      <th>Test Language</th>\n",
       "      <th>Formative Assessment</th>\n",
       "      <th>Student Orientation</th>\n",
       "      <th>Teacher-Directed Instruction</th>\n",
       "      <th>Math Score</th>\n",
       "      <th>Reading Score</th>\n",
       "      <th>Science Score</th>\n",
       "    </tr>\n",
       "  </thead>\n",
       "  <tbody>\n",
       "    <tr>\n",
       "      <th>204007</th>\n",
       "      <td>Greece</td>\n",
       "      <td>Female</td>\n",
       "      <td>Yes</td>\n",
       "      <td>15.33</td>\n",
       "      <td>Yes</td>\n",
       "      <td>Language of the test</td>\n",
       "      <td>0.13793</td>\n",
       "      <td>0.209052</td>\n",
       "      <td>0.147423</td>\n",
       "      <td>438.54962</td>\n",
       "      <td>540.61140</td>\n",
       "      <td>450.14918</td>\n",
       "    </tr>\n",
       "    <tr>\n",
       "      <th>163094</th>\n",
       "      <td>Spain</td>\n",
       "      <td>Female</td>\n",
       "      <td>Yes</td>\n",
       "      <td>15.58</td>\n",
       "      <td>Yes</td>\n",
       "      <td>Other language</td>\n",
       "      <td>-0.28590</td>\n",
       "      <td>0.485500</td>\n",
       "      <td>-0.808300</td>\n",
       "      <td>509.35506</td>\n",
       "      <td>564.12298</td>\n",
       "      <td>549.45916</td>\n",
       "    </tr>\n",
       "    <tr>\n",
       "      <th>191421</th>\n",
       "      <td>United Kingdom</td>\n",
       "      <td>Male</td>\n",
       "      <td>Yes</td>\n",
       "      <td>15.42</td>\n",
       "      <td>Yes</td>\n",
       "      <td>Language of the test</td>\n",
       "      <td>0.13793</td>\n",
       "      <td>0.209052</td>\n",
       "      <td>0.147423</td>\n",
       "      <td>423.59402</td>\n",
       "      <td>499.91432</td>\n",
       "      <td>527.54568</td>\n",
       "    </tr>\n",
       "    <tr>\n",
       "      <th>225826</th>\n",
       "      <td>Indonesia</td>\n",
       "      <td>Male</td>\n",
       "      <td>Yes</td>\n",
       "      <td>15.92</td>\n",
       "      <td>No</td>\n",
       "      <td>Other language</td>\n",
       "      <td>1.36250</td>\n",
       "      <td>1.154700</td>\n",
       "      <td>-0.079800</td>\n",
       "      <td>262.27606</td>\n",
       "      <td>302.47542</td>\n",
       "      <td>267.66132</td>\n",
       "    </tr>\n",
       "    <tr>\n",
       "      <th>102436</th>\n",
       "      <td>Switzerland</td>\n",
       "      <td>Female</td>\n",
       "      <td>Yes</td>\n",
       "      <td>16.08</td>\n",
       "      <td>No</td>\n",
       "      <td>Language of the test</td>\n",
       "      <td>-0.96320</td>\n",
       "      <td>0.221700</td>\n",
       "      <td>-1.673100</td>\n",
       "      <td>598.38758</td>\n",
       "      <td>601.61444</td>\n",
       "      <td>594.31182</td>\n",
       "    </tr>\n",
       "    <tr>\n",
       "      <th>467828</th>\n",
       "      <td>Turkey</td>\n",
       "      <td>Female</td>\n",
       "      <td>Yes</td>\n",
       "      <td>16.08</td>\n",
       "      <td>Yes</td>\n",
       "      <td>Language of the test</td>\n",
       "      <td>0.25090</td>\n",
       "      <td>-0.580900</td>\n",
       "      <td>0.167200</td>\n",
       "      <td>535.60524</td>\n",
       "      <td>527.26700</td>\n",
       "      <td>533.60688</td>\n",
       "    </tr>\n",
       "    <tr>\n",
       "      <th>428715</th>\n",
       "      <td>Serbia</td>\n",
       "      <td>Male</td>\n",
       "      <td>Yes</td>\n",
       "      <td>15.33</td>\n",
       "      <td>Yes</td>\n",
       "      <td>Language of the test</td>\n",
       "      <td>1.04160</td>\n",
       "      <td>0.485500</td>\n",
       "      <td>1.076800</td>\n",
       "      <td>592.85714</td>\n",
       "      <td>485.31892</td>\n",
       "      <td>547.50092</td>\n",
       "    </tr>\n",
       "    <tr>\n",
       "      <th>326119</th>\n",
       "      <td>Mexico</td>\n",
       "      <td>Male</td>\n",
       "      <td>Yes</td>\n",
       "      <td>15.75</td>\n",
       "      <td>Yes</td>\n",
       "      <td>Language of the test</td>\n",
       "      <td>0.13793</td>\n",
       "      <td>0.209052</td>\n",
       "      <td>0.147423</td>\n",
       "      <td>380.59666</td>\n",
       "      <td>390.04782</td>\n",
       "      <td>396.34466</td>\n",
       "    </tr>\n",
       "    <tr>\n",
       "      <th>339143</th>\n",
       "      <td>Mexico</td>\n",
       "      <td>Female</td>\n",
       "      <td>NA</td>\n",
       "      <td>16.08</td>\n",
       "      <td>No</td>\n",
       "      <td>NA</td>\n",
       "      <td>0.50540</td>\n",
       "      <td>1.382300</td>\n",
       "      <td>2.563000</td>\n",
       "      <td>314.38698</td>\n",
       "      <td>310.89690</td>\n",
       "      <td>280.80938</td>\n",
       "    </tr>\n",
       "    <tr>\n",
       "      <th>308910</th>\n",
       "      <td>Latvia</td>\n",
       "      <td>Male</td>\n",
       "      <td>Yes</td>\n",
       "      <td>16.08</td>\n",
       "      <td>Yes</td>\n",
       "      <td>Language of the test</td>\n",
       "      <td>0.13793</td>\n",
       "      <td>0.209052</td>\n",
       "      <td>0.147423</td>\n",
       "      <td>486.29848</td>\n",
       "      <td>537.04438</td>\n",
       "      <td>521.39128</td>\n",
       "    </tr>\n",
       "  </tbody>\n",
       "</table>\n",
       "</div>"
      ],
      "text/plain": [
       "               Country  Gender Dictionary    Age Literature  \\\n",
       "204007          Greece  Female        Yes  15.33        Yes   \n",
       "163094           Spain  Female        Yes  15.58        Yes   \n",
       "191421  United Kingdom    Male        Yes  15.42        Yes   \n",
       "225826       Indonesia    Male        Yes  15.92         No   \n",
       "102436     Switzerland  Female        Yes  16.08         No   \n",
       "467828          Turkey  Female        Yes  16.08        Yes   \n",
       "428715          Serbia    Male        Yes  15.33        Yes   \n",
       "326119          Mexico    Male        Yes  15.75        Yes   \n",
       "339143          Mexico  Female         NA  16.08         No   \n",
       "308910          Latvia    Male        Yes  16.08        Yes   \n",
       "\n",
       "               Test Language  Formative Assessment  Student Orientation  \\\n",
       "204007  Language of the test               0.13793             0.209052   \n",
       "163094        Other language              -0.28590             0.485500   \n",
       "191421  Language of the test               0.13793             0.209052   \n",
       "225826        Other language               1.36250             1.154700   \n",
       "102436  Language of the test              -0.96320             0.221700   \n",
       "467828  Language of the test               0.25090            -0.580900   \n",
       "428715  Language of the test               1.04160             0.485500   \n",
       "326119  Language of the test               0.13793             0.209052   \n",
       "339143                    NA               0.50540             1.382300   \n",
       "308910  Language of the test               0.13793             0.209052   \n",
       "\n",
       "        Teacher-Directed Instruction  Math Score  Reading Score  Science Score  \n",
       "204007                      0.147423   438.54962      540.61140      450.14918  \n",
       "163094                     -0.808300   509.35506      564.12298      549.45916  \n",
       "191421                      0.147423   423.59402      499.91432      527.54568  \n",
       "225826                     -0.079800   262.27606      302.47542      267.66132  \n",
       "102436                     -1.673100   598.38758      601.61444      594.31182  \n",
       "467828                      0.167200   535.60524      527.26700      533.60688  \n",
       "428715                      1.076800   592.85714      485.31892      547.50092  \n",
       "326119                      0.147423   380.59666      390.04782      396.34466  \n",
       "339143                      2.563000   314.38698      310.89690      280.80938  \n",
       "308910                      0.147423   486.29848      537.04438      521.39128  "
      ]
     },
     "execution_count": 49,
     "metadata": {},
     "output_type": "execute_result"
    }
   ],
   "source": [
    "# check \n",
    "pisa_2012_clean.sample(10)"
   ]
  },
  {
   "cell_type": "code",
   "execution_count": 50,
   "metadata": {},
   "outputs": [
    {
     "name": "stdout",
     "output_type": "stream",
     "text": [
      "<class 'pandas.core.frame.DataFrame'>\n",
      "RangeIndex: 485490 entries, 0 to 485489\n",
      "Data columns (total 12 columns):\n",
      " #   Column                        Non-Null Count   Dtype  \n",
      "---  ------                        --------------   -----  \n",
      " 0   Country                       485490 non-null  object \n",
      " 1   Gender                        485490 non-null  object \n",
      " 2   Dictionary                    485490 non-null  object \n",
      " 3   Age                           485490 non-null  float64\n",
      " 4   Literature                    485490 non-null  object \n",
      " 5   Test Language                 485490 non-null  object \n",
      " 6   Formative Assessment          485490 non-null  float64\n",
      " 7   Student Orientation           485490 non-null  float64\n",
      " 8   Teacher-Directed Instruction  485490 non-null  float64\n",
      " 9   Math Score                    485490 non-null  float64\n",
      " 10  Reading Score                 485490 non-null  float64\n",
      " 11  Science Score                 485490 non-null  float64\n",
      "dtypes: float64(7), object(5)\n",
      "memory usage: 44.4+ MB\n"
     ]
    }
   ],
   "source": [
    "pisa_2012_clean.info()"
   ]
  },
  {
   "cell_type": "markdown",
   "metadata": {},
   "source": [
    "Our dataframe is now clean and tidy. We're ready for Exploratory Data Analysis (EDA)"
   ]
  },
  {
   "cell_type": "markdown",
   "metadata": {},
   "source": [
    "## Exploratory Data Analysis"
   ]
  },
  {
   "cell_type": "markdown",
   "metadata": {},
   "source": [
    "###  Method : Univariate Analysis"
   ]
  },
  {
   "cell_type": "markdown",
   "metadata": {},
   "source": [
    "- Univariate visualization provides us summary statistics for one variable."
   ]
  },
  {
   "cell_type": "markdown",
   "metadata": {},
   "source": [
    "###  *1) How did students perform in each subject?*"
   ]
  },
  {
   "cell_type": "code",
   "execution_count": 51,
   "metadata": {},
   "outputs": [
    {
     "data": {
      "image/png": "[encoded data removed]",
      "text/plain": [
       "<Figure size 936x720 with 4 Axes>"
      ]
     },
     "metadata": {
      "needs_background": "light"
     },
     "output_type": "display_data"
    }
   ],
   "source": [
    "# historgram gives the density of distributions from point to point in general terms.\n",
    "# we want to see the distribution of scores for each of the subject \n",
    "# we need 3 subplots as there's three subjects (Math, Reading, and Science)\n",
    "\n",
    "features = ['Math Score','Reading Score','Science Score']\n",
    "pisa_2012_clean[features].hist(figsize=(13, 10));\n"
   ]
  },
  {
   "cell_type": "markdown",
   "metadata": {},
   "source": [
    "#### Histogram Visualization Analysis\n",
    "- In each subject, scores are normally distributed (bell curve)\n",
    "- Distribution of each subject is unimodal\n",
    "- Scores between 300 and 600 in each subject saw the highest student count"
   ]
  },
  {
   "cell_type": "markdown",
   "metadata": {},
   "source": [
    "### *2) What was the distribution for each teacher behavior score?*"
   ]
  },
  {
   "cell_type": "code",
   "execution_count": 52,
   "metadata": {},
   "outputs": [
    {
     "data": {
      "image/png": "[encoded data removed]",
      "text/plain": [
       "<Figure size 936x720 with 4 Axes>"
      ]
     },
     "metadata": {
      "needs_background": "light"
     },
     "output_type": "display_data"
    }
   ],
   "source": [
    "features2 = ['Formative Assessment','Student Orientation','Teacher-Directed Instruction']\n",
    "pisa_2012_clean[features2].hist(figsize=(13, 10));\n"
   ]
  },
  {
   "cell_type": "markdown",
   "metadata": {},
   "source": [
    " - This is some what unimodeal but we see that on average most students scored between 0 and 1."
   ]
  },
  {
   "cell_type": "markdown",
   "metadata": {},
   "source": [
    "###  *3) About how many students were non-native speakers?*"
   ]
  },
  {
   "cell_type": "code",
   "execution_count": 53,
   "metadata": {},
   "outputs": [
    {
     "data": {
      "image/png": "[encoded data removed]",
      "text/plain": [
       "<Figure size 432x288 with 1 Axes>"
      ]
     },
     "metadata": {
      "needs_background": "light"
     },
     "output_type": "display_data"
    }
   ],
   "source": [
    "#https://stackoverflow.com/questions/43549901/visualize-data-from-one-column\n",
    "labels = []\n",
    "for i, dfi in enumerate(pisa_2012_clean.groupby([\"Test Language\"])):\n",
    "    labels.append(dfi[0])\n",
    "    plt.bar(i, dfi[1].count(), label=dfi[0])\n",
    "plt.xticks(range(len(labels)), labels)\n",
    "plt.legend()\n",
    "plt.show()"
   ]
  },
  {
   "cell_type": "markdown",
   "metadata": {},
   "source": [
    " - **The vast majority of the test takers were native speakers as expected. And about 1.5% were non-native speakers when taking the exams.**"
   ]
  },
  {
   "cell_type": "markdown",
   "metadata": {},
   "source": [
    "###  *4) Which gender was more represented?*"
   ]
  },
  {
   "cell_type": "code",
   "execution_count": 60,
   "metadata": {},
   "outputs": [
    {
     "data": {
      "image/png": "[encoded data removed]",
      "text/plain": [
       "<Figure size 432x288 with 1 Axes>"
      ]
     },
     "metadata": {},
     "output_type": "display_data"
    }
   ],
   "source": [
    "#https://stackoverflow.com/questions/43549901/visualize-data-from-one-column\n",
    "labels = []\n",
    "for i, dfi in enumerate(pisa_2012_clean.groupby([\"Gender\"])):\n",
    "    labels.append(dfi[0])\n",
    "    plt.bar(i, dfi[1].count(), label=dfi[0])\n",
    "plt.xticks(range(len(labels)), labels)\n",
    "plt.legend()\n",
    "plt.show()"
   ]
  },
  {
   "cell_type": "markdown",
   "metadata": {},
   "source": [
    " - Girls took the tests more than the boys but it's relatively the same!"
   ]
  },
  {
   "cell_type": "markdown",
   "metadata": {},
   "source": [
    "###  Method 2: Bivariate Analysis"
   ]
  },
  {
   "cell_type": "markdown",
   "metadata": {},
   "source": [
    "Bivariate analysis provide us the relationship between two variables in the dataset."
   ]
  },
  {
   "cell_type": "markdown",
   "metadata": {},
   "source": [
    "###  *5) Which gender performed better in reading ?*"
   ]
  },
  {
   "cell_type": "code",
   "execution_count": 54,
   "metadata": {},
   "outputs": [
    {
     "data": {
      "image/png": "[encoded data removed]",
      "text/plain": [
       "<Figure size 432x288 with 1 Axes>"
      ]
     },
     "metadata": {
      "needs_background": "light"
     },
     "output_type": "display_data"
    }
   ],
   "source": [
    "import seaborn as sns\n",
    "sns.boxplot(x = pisa_2012_clean['Reading Score'], y = pisa_2012_clean['Gender'] );"
   ]
  },
  {
   "cell_type": "markdown",
   "metadata": {},
   "source": [
    " - Looking at the boxplots, we see that there's more outliers in the female on the left of the whisker. But they still outperformed their male counterparts greatly"
   ]
  },
  {
   "cell_type": "markdown",
   "metadata": {},
   "source": [
    " - **Personally, I've heard that male students perform better than female students in subjects Math and Science. So I wanted to take this opporutnity to see if how female students compare to their male counterparts when it comes with Reading. Surpringsly, they outperform them by quite a margin.**"
   ]
  },
  {
   "cell_type": "markdown",
   "metadata": {},
   "source": [
    "### *6) Did students who possess dictionaries perform better in reading section?*"
   ]
  },
  {
   "cell_type": "code",
   "execution_count": 55,
   "metadata": {},
   "outputs": [
    {
     "data": {
      "image/png": "[encoded data removed]",
      "text/plain": [
       "<Figure size 432x288 with 1 Axes>"
      ]
     },
     "metadata": {
      "needs_background": "light"
     },
     "output_type": "display_data"
    }
   ],
   "source": [
    "sns.boxplot(x = pisa_2012_clean['Reading Score'], y = pisa_2012_clean['Dictionary'] );"
   ]
  },
  {
   "cell_type": "markdown",
   "metadata": {},
   "source": [
    " - Yes, students who possess dictionaries performed higher in reading section."
   ]
  },
  {
   "cell_type": "markdown",
   "metadata": {},
   "source": [
    " - **I expected this to be the answer and it was refreshing to see how having a possession of something leads to a either advantange/disadvantage in performance.Since dictionaries do carry our words and their meanings, it makes sense that we see the plot above. Although NA isn't a variable we are looking it at since we are doing Bivariate Analysis of two variables (Reading Score and Dictionary), it was interesting to see how NA scored the lowest.I think it may perhpas have to do with just not being able to read due to lack of resources (education,finance,support, etc.) as education is an investment and there's disaprities in our education system.**"
   ]
  },
  {
   "cell_type": "markdown",
   "metadata": {},
   "source": [
    "### *7) Do students with dictionaries more likely to possess literature books?*"
   ]
  },
  {
   "cell_type": "code",
   "execution_count": 56,
   "metadata": {},
   "outputs": [
    {
     "data": {
      "image/png": "[encoded data removed]",
      "text/plain": [
       "<Figure size 432x288 with 1 Axes>"
      ]
     },
     "metadata": {},
     "output_type": "display_data"
    }
   ],
   "source": [
    "#https://stackoverflow.com/questions/47809646/how-to-make-a-histogram-for-non-numeric-variables-in-python?rq=1\n",
    "\n",
    "plt.style.use('ggplot')\n",
    "\n",
    "pisa_2012_clean.groupby(['Dictionary', 'Literature'])\\\n",
    "      .Literature.count().unstack().plot.bar(legend=True)\n",
    "\n",
    "plt.show()"
   ]
  },
  {
   "cell_type": "markdown",
   "metadata": {},
   "source": [
    " - As expected, students who possess dictionaries also possess more literatures books. And likewise, there's more students who don't possess literature books among those who don't possess dictionaries."
   ]
  },
  {
   "cell_type": "markdown",
   "metadata": {},
   "source": [
    "### *8) Which gender performed better in Math ?*"
   ]
  },
  {
   "cell_type": "code",
   "execution_count": 57,
   "metadata": {},
   "outputs": [
    {
     "data": {
      "image/png": "[encoded data removed]",
      "text/plain": [
       "<Figure size 432x288 with 1 Axes>"
      ]
     },
     "metadata": {},
     "output_type": "display_data"
    }
   ],
   "source": [
    "import seaborn as sns\n",
    "sns.boxplot(x = pisa_2012_clean['Math Score'], y = pisa_2012_clean['Gender'] );"
   ]
  },
  {
   "cell_type": "markdown",
   "metadata": {},
   "source": [
    " - Boys perfommed better than girls slightly better and we see that there's more outliers in girls pulling to the left, while for the boys, they have more outliers pulling to the right (of the whiskers). "
   ]
  },
  {
   "cell_type": "markdown",
   "metadata": {},
   "source": [
    "### *9) Which gender performed better in Science ?*"
   ]
  },
  {
   "cell_type": "code",
   "execution_count": 58,
   "metadata": {},
   "outputs": [
    {
     "data": {
      "image/png": "[encoded data removed]",
      "text/plain": [
       "<Figure size 432x288 with 1 Axes>"
      ]
     },
     "metadata": {},
     "output_type": "display_data"
    }
   ],
   "source": [
    "import seaborn as sns\n",
    "sns.boxplot(x = pisa_2012_clean['Science Score'], y = pisa_2012_clean['Gender'] );"
   ]
  },
  {
   "cell_type": "markdown",
   "metadata": {},
   "source": [
    " - By looking at the median of the boxes they scored just about the same. "
   ]
  },
  {
   "cell_type": "markdown",
   "metadata": {},
   "source": [
    "### *10) How did non native speakers perform compared to non-native speakers, in Reading section ?*"
   ]
  },
  {
   "cell_type": "code",
   "execution_count": 59,
   "metadata": {},
   "outputs": [
    {
     "data": {
      "image/png": "[encoded data removed]",
      "text/plain": [
       "<Figure size 432x288 with 1 Axes>"
      ]
     },
     "metadata": {},
     "output_type": "display_data"
    }
   ],
   "source": [
    "import seaborn as sns\n",
    "sns.boxplot(x = pisa_2012_clean['Reading Score'], y = pisa_2012_clean['Test Language'] );"
   ]
  },
  {
   "cell_type": "markdown",
   "metadata": {},
   "source": [
    " - Non-native speakers performed a little below than their counterparts in the Reading Section. This is very interesting to see. "
   ]
  },
  {
   "cell_type": "markdown",
   "metadata": {},
   "source": [
    "### Method : Multivariate Analysis"
   ]
  },
  {
   "cell_type": "markdown",
   "metadata": {},
   "source": [
    "### *11) What's the correlation between the three teacher behavior measurements?*"
   ]
  },
  {
   "cell_type": "code",
   "execution_count": 72,
   "metadata": {},
   "outputs": [
    {
     "data": {
      "image/png": "[encoded data removed]",
      "text/plain": [
       "<Figure size 432x288 with 2 Axes>"
      ]
     },
     "metadata": {},
     "output_type": "display_data"
    }
   ],
   "source": [
    "#https://datatofish.com/correlation-matrix-pandas/\n",
    "\n",
    "df_1 = pd.DataFrame(pisa_2012_clean,columns=['Formative Assessment','Student Orientation','Teacher-Directed Instruction'])\n",
    "corrMatrix = df_1.corr()\n",
    "sns.heatmap(corrMatrix, annot=True)\n",
    "plt.show()"
   ]
  },
  {
   "cell_type": "markdown",
   "metadata": {},
   "source": [
    " - **We see that Formative Assessment and Teacher-Directed Instruction have the highest correlation. It makes sense because Formative Asessment include things like diagnostic tests which are conducted by teachers. And Teacher-Directed Instruction goes with that notion where students are instructed to take exams/tests, etc.**"
   ]
  },
  {
   "cell_type": "markdown",
   "metadata": {},
   "source": [
    "### *12) What's the correlation between the three subject scores?*"
   ]
  },
  {
   "cell_type": "code",
   "execution_count": 73,
   "metadata": {},
   "outputs": [
    {
     "data": {
      "image/png": "[encoded data removed]",
      "text/plain": [
       "<Figure size 432x288 with 2 Axes>"
      ]
     },
     "metadata": {},
     "output_type": "display_data"
    }
   ],
   "source": [
    "df_2 = pd.DataFrame(pisa_2012_clean,columns=['Math Score','Reading Score','Science Score'])\n",
    "corrMatrix = df_2.corr()\n",
    "sns.heatmap(corrMatrix, annot=True)\n",
    "plt.show()"
   ]
  },
  {
   "cell_type": "markdown",
   "metadata": {},
   "source": [
    "- **We can see that the correlation coefficient between Science Score and Math Score is the highest, and this is something that most people may already know. Further, Reading Score and Math Score had the lowest correlation out of the three, possibly explaning the phenomenon how some people are analytical while others are more creative.**"
   ]
  },
  {
   "cell_type": "markdown",
   "metadata": {},
   "source": [
    "### *13) What's the correlation between Age, Science Score, and Formative Assessment?*"
   ]
  },
  {
   "cell_type": "code",
   "execution_count": 62,
   "metadata": {},
   "outputs": [
    {
     "data": {
      "image/png": "[encoded data removed]",
      "text/plain": [
       "<Figure size 432x288 with 2 Axes>"
      ]
     },
     "metadata": {},
     "output_type": "display_data"
    }
   ],
   "source": [
    "df_3 = pd.DataFrame(pisa_2012_clean,columns=['Age','Science Score','Formative Assessment'])\n",
    "corrMatrix = df_3.corr()\n",
    "sns.heatmap(corrMatrix, annot=True)\n",
    "plt.show()"
   ]
  },
  {
   "cell_type": "markdown",
   "metadata": {},
   "source": [
    " - As we expected, this is the lowest correlation matrix we've seen. It's a mixture of Age which isn't a score, and two scores that's not related. One is a test score which a student earns and the other is measurement of Teacher Behavior which student is instructed with."
   ]
  }
 ],
 "metadata": {
  "kernelspec": {
   "display_name": "Python 3 (ipykernel)",
   "language": "python",
   "name": "python3"
  },
  "language_info": {
   "codemirror_mode": {
    "name": "ipython",
    "version": 3
   },
   "file_extension": ".py",
   "mimetype": "text/x-python",
   "name": "python",
   "nbconvert_exporter": "python",
   "pygments_lexer": "ipython3",
   "version": "3.8.13"
  }
 },
 "nbformat": 4,
 "nbformat_minor": 2
}
